{
  "cells": [
    {
      "cell_type": "markdown",
      "metadata": {},
      "source": [
        "## Prologue\n",
        "This evaluation contains the result from my WiFi- Mehs Test Setup. The goal was to find out if a WiFi Mesh cosisting of two accesspoints with a total distance of 100 meters  in between would allow a prototype autonomous vehicle to stream its video data via wifi to a host (See my [previous post](https://protogia.github.io/blog/wifi-bandwith-to-distance-relation/) about the test setup). \n",
        "\n",
        "After recoding multiple test traces and syncing the logging-outputs of iperf3 and gpspipe we'll visualise in this article the limitations of the setup.\n",
        "To make sure that the setup will suit to the requirements, we have to evaluate the relation between bandwith and distance and as well as between latency and distance. To discover wifi blindspots in the test area we will also plot the results on a map. "
      ]
    },
    {
      "cell_type": "markdown",
      "metadata": {
        "id": "FApIEQTIsOh2"
      },
      "source": [
        "## Install dependencies"
      ]
    },
    {
      "cell_type": "code",
      "execution_count": 11,
      "metadata": {
        "id": "u3inBpC6sOh4"
      },
      "outputs": [
        {
          "name": "stdout",
          "output_type": "stream",
          "text": [
            "Requirement already satisfied: ipykernel in /home/working/.cache/pypoetry/virtualenvs/wifi-mesh-bandwith-evaluation-ZZPij1Nn-py3.12/lib/python3.12/site-packages (7.0.1)\n",
            "Requirement already satisfied: comm>=0.1.1 in /home/working/.cache/pypoetry/virtualenvs/wifi-mesh-bandwith-evaluation-ZZPij1Nn-py3.12/lib/python3.12/site-packages (from ipykernel) (0.2.2)\n",
            "Requirement already satisfied: debugpy>=1.6.5 in /home/working/.cache/pypoetry/virtualenvs/wifi-mesh-bandwith-evaluation-ZZPij1Nn-py3.12/lib/python3.12/site-packages (from ipykernel) (1.8.5)\n",
            "Requirement already satisfied: ipython>=7.23.1 in /home/working/.cache/pypoetry/virtualenvs/wifi-mesh-bandwith-evaluation-ZZPij1Nn-py3.12/lib/python3.12/site-packages (from ipykernel) (8.27.0)\n",
            "Requirement already satisfied: jupyter-client>=8.0.0 in /home/working/.cache/pypoetry/virtualenvs/wifi-mesh-bandwith-evaluation-ZZPij1Nn-py3.12/lib/python3.12/site-packages (from ipykernel) (8.6.3)\n",
            "Requirement already satisfied: jupyter-core!=5.0.*,>=4.12 in /home/working/.cache/pypoetry/virtualenvs/wifi-mesh-bandwith-evaluation-ZZPij1Nn-py3.12/lib/python3.12/site-packages (from ipykernel) (5.7.2)\n",
            "Requirement already satisfied: matplotlib-inline>=0.1 in /home/working/.cache/pypoetry/virtualenvs/wifi-mesh-bandwith-evaluation-ZZPij1Nn-py3.12/lib/python3.12/site-packages (from ipykernel) (0.1.7)\n",
            "Requirement already satisfied: nest-asyncio>=1.4 in /home/working/.cache/pypoetry/virtualenvs/wifi-mesh-bandwith-evaluation-ZZPij1Nn-py3.12/lib/python3.12/site-packages (from ipykernel) (1.6.0)\n",
            "Requirement already satisfied: packaging>=22 in /home/working/.cache/pypoetry/virtualenvs/wifi-mesh-bandwith-evaluation-ZZPij1Nn-py3.12/lib/python3.12/site-packages (from ipykernel) (24.1)\n",
            "Requirement already satisfied: psutil>=5.7 in /home/working/.cache/pypoetry/virtualenvs/wifi-mesh-bandwith-evaluation-ZZPij1Nn-py3.12/lib/python3.12/site-packages (from ipykernel) (6.0.0)\n",
            "Requirement already satisfied: pyzmq>=25 in /home/working/.cache/pypoetry/virtualenvs/wifi-mesh-bandwith-evaluation-ZZPij1Nn-py3.12/lib/python3.12/site-packages (from ipykernel) (26.2.0)\n",
            "Requirement already satisfied: tornado>=6.2 in /home/working/.cache/pypoetry/virtualenvs/wifi-mesh-bandwith-evaluation-ZZPij1Nn-py3.12/lib/python3.12/site-packages (from ipykernel) (6.4.1)\n",
            "Requirement already satisfied: traitlets>=5.4.0 in /home/working/.cache/pypoetry/virtualenvs/wifi-mesh-bandwith-evaluation-ZZPij1Nn-py3.12/lib/python3.12/site-packages (from ipykernel) (5.14.3)\n",
            "Requirement already satisfied: decorator in /home/working/.cache/pypoetry/virtualenvs/wifi-mesh-bandwith-evaluation-ZZPij1Nn-py3.12/lib/python3.12/site-packages (from ipython>=7.23.1->ipykernel) (5.1.1)\n",
            "Requirement already satisfied: jedi>=0.16 in /home/working/.cache/pypoetry/virtualenvs/wifi-mesh-bandwith-evaluation-ZZPij1Nn-py3.12/lib/python3.12/site-packages (from ipython>=7.23.1->ipykernel) (0.19.1)\n",
            "Requirement already satisfied: prompt-toolkit<3.1.0,>=3.0.41 in /home/working/.cache/pypoetry/virtualenvs/wifi-mesh-bandwith-evaluation-ZZPij1Nn-py3.12/lib/python3.12/site-packages (from ipython>=7.23.1->ipykernel) (3.0.47)\n",
            "Requirement already satisfied: pygments>=2.4.0 in /home/working/.cache/pypoetry/virtualenvs/wifi-mesh-bandwith-evaluation-ZZPij1Nn-py3.12/lib/python3.12/site-packages (from ipython>=7.23.1->ipykernel) (2.18.0)\n",
            "Requirement already satisfied: stack-data in /home/working/.cache/pypoetry/virtualenvs/wifi-mesh-bandwith-evaluation-ZZPij1Nn-py3.12/lib/python3.12/site-packages (from ipython>=7.23.1->ipykernel) (0.6.3)\n",
            "Requirement already satisfied: pexpect>4.3 in /home/working/.cache/pypoetry/virtualenvs/wifi-mesh-bandwith-evaluation-ZZPij1Nn-py3.12/lib/python3.12/site-packages (from ipython>=7.23.1->ipykernel) (4.9.0)\n",
            "Requirement already satisfied: python-dateutil>=2.8.2 in /home/working/.cache/pypoetry/virtualenvs/wifi-mesh-bandwith-evaluation-ZZPij1Nn-py3.12/lib/python3.12/site-packages (from jupyter-client>=8.0.0->ipykernel) (2.9.0.post0)\n",
            "Requirement already satisfied: platformdirs>=2.5 in /home/working/.cache/pypoetry/virtualenvs/wifi-mesh-bandwith-evaluation-ZZPij1Nn-py3.12/lib/python3.12/site-packages (from jupyter-core!=5.0.*,>=4.12->ipykernel) (4.3.6)\n",
            "Requirement already satisfied: parso<0.9.0,>=0.8.3 in /home/working/.cache/pypoetry/virtualenvs/wifi-mesh-bandwith-evaluation-ZZPij1Nn-py3.12/lib/python3.12/site-packages (from jedi>=0.16->ipython>=7.23.1->ipykernel) (0.8.4)\n",
            "Requirement already satisfied: ptyprocess>=0.5 in /home/working/.cache/pypoetry/virtualenvs/wifi-mesh-bandwith-evaluation-ZZPij1Nn-py3.12/lib/python3.12/site-packages (from pexpect>4.3->ipython>=7.23.1->ipykernel) (0.7.0)\n",
            "Requirement already satisfied: wcwidth in /home/working/.cache/pypoetry/virtualenvs/wifi-mesh-bandwith-evaluation-ZZPij1Nn-py3.12/lib/python3.12/site-packages (from prompt-toolkit<3.1.0,>=3.0.41->ipython>=7.23.1->ipykernel) (0.2.13)\n",
            "Requirement already satisfied: six>=1.5 in /home/working/.cache/pypoetry/virtualenvs/wifi-mesh-bandwith-evaluation-ZZPij1Nn-py3.12/lib/python3.12/site-packages (from python-dateutil>=2.8.2->jupyter-client>=8.0.0->ipykernel) (1.16.0)\n",
            "Requirement already satisfied: executing>=1.2.0 in /home/working/.cache/pypoetry/virtualenvs/wifi-mesh-bandwith-evaluation-ZZPij1Nn-py3.12/lib/python3.12/site-packages (from stack-data->ipython>=7.23.1->ipykernel) (2.1.0)\n",
            "Requirement already satisfied: asttokens>=2.1.0 in /home/working/.cache/pypoetry/virtualenvs/wifi-mesh-bandwith-evaluation-ZZPij1Nn-py3.12/lib/python3.12/site-packages (from stack-data->ipython>=7.23.1->ipykernel) (2.4.1)\n",
            "Requirement already satisfied: pure-eval in /home/working/.cache/pypoetry/virtualenvs/wifi-mesh-bandwith-evaluation-ZZPij1Nn-py3.12/lib/python3.12/site-packages (from stack-data->ipython>=7.23.1->ipykernel) (0.2.3)\n",
            "\n",
            "\u001b[1m[\u001b[0m\u001b[34;49mnotice\u001b[0m\u001b[1;39;49m]\u001b[0m\u001b[39;49m A new release of pip is available: \u001b[0m\u001b[31;49m24.1\u001b[0m\u001b[39;49m -> \u001b[0m\u001b[32;49m25.3\u001b[0m\n",
            "\u001b[1m[\u001b[0m\u001b[34;49mnotice\u001b[0m\u001b[1;39;49m]\u001b[0m\u001b[39;49m To update, run: \u001b[0m\u001b[32;49mpip install --upgrade pip\u001b[0m\n",
            "Requirement already satisfied: matplotlib in /home/working/.cache/pypoetry/virtualenvs/wifi-mesh-bandwith-evaluation-ZZPij1Nn-py3.12/lib/python3.12/site-packages (3.10.7)\n",
            "Requirement already satisfied: contourpy>=1.0.1 in /home/working/.cache/pypoetry/virtualenvs/wifi-mesh-bandwith-evaluation-ZZPij1Nn-py3.12/lib/python3.12/site-packages (from matplotlib) (1.3.3)\n",
            "Requirement already satisfied: cycler>=0.10 in /home/working/.cache/pypoetry/virtualenvs/wifi-mesh-bandwith-evaluation-ZZPij1Nn-py3.12/lib/python3.12/site-packages (from matplotlib) (0.12.1)\n",
            "Requirement already satisfied: fonttools>=4.22.0 in /home/working/.cache/pypoetry/virtualenvs/wifi-mesh-bandwith-evaluation-ZZPij1Nn-py3.12/lib/python3.12/site-packages (from matplotlib) (4.60.1)\n",
            "Requirement already satisfied: kiwisolver>=1.3.1 in /home/working/.cache/pypoetry/virtualenvs/wifi-mesh-bandwith-evaluation-ZZPij1Nn-py3.12/lib/python3.12/site-packages (from matplotlib) (1.4.9)\n",
            "Requirement already satisfied: numpy>=1.23 in /home/working/.cache/pypoetry/virtualenvs/wifi-mesh-bandwith-evaluation-ZZPij1Nn-py3.12/lib/python3.12/site-packages (from matplotlib) (2.1.1)\n",
            "Requirement already satisfied: packaging>=20.0 in /home/working/.cache/pypoetry/virtualenvs/wifi-mesh-bandwith-evaluation-ZZPij1Nn-py3.12/lib/python3.12/site-packages (from matplotlib) (24.1)\n",
            "Requirement already satisfied: pillow>=8 in /home/working/.cache/pypoetry/virtualenvs/wifi-mesh-bandwith-evaluation-ZZPij1Nn-py3.12/lib/python3.12/site-packages (from matplotlib) (12.0.0)\n",
            "Requirement already satisfied: pyparsing>=3 in /home/working/.cache/pypoetry/virtualenvs/wifi-mesh-bandwith-evaluation-ZZPij1Nn-py3.12/lib/python3.12/site-packages (from matplotlib) (3.2.5)\n",
            "Requirement already satisfied: python-dateutil>=2.7 in /home/working/.cache/pypoetry/virtualenvs/wifi-mesh-bandwith-evaluation-ZZPij1Nn-py3.12/lib/python3.12/site-packages (from matplotlib) (2.9.0.post0)\n",
            "Requirement already satisfied: six>=1.5 in /home/working/.cache/pypoetry/virtualenvs/wifi-mesh-bandwith-evaluation-ZZPij1Nn-py3.12/lib/python3.12/site-packages (from python-dateutil>=2.7->matplotlib) (1.16.0)\n",
            "\n",
            "\u001b[1m[\u001b[0m\u001b[34;49mnotice\u001b[0m\u001b[1;39;49m]\u001b[0m\u001b[39;49m A new release of pip is available: \u001b[0m\u001b[31;49m24.1\u001b[0m\u001b[39;49m -> \u001b[0m\u001b[32;49m25.3\u001b[0m\n",
            "\u001b[1m[\u001b[0m\u001b[34;49mnotice\u001b[0m\u001b[1;39;49m]\u001b[0m\u001b[39;49m To update, run: \u001b[0m\u001b[32;49mpip install --upgrade pip\u001b[0m\n",
            "Requirement already satisfied: seaborn in /home/working/.cache/pypoetry/virtualenvs/wifi-mesh-bandwith-evaluation-ZZPij1Nn-py3.12/lib/python3.12/site-packages (0.13.2)\n",
            "Requirement already satisfied: numpy!=1.24.0,>=1.20 in /home/working/.cache/pypoetry/virtualenvs/wifi-mesh-bandwith-evaluation-ZZPij1Nn-py3.12/lib/python3.12/site-packages (from seaborn) (2.1.1)\n",
            "Requirement already satisfied: pandas>=1.2 in /home/working/.cache/pypoetry/virtualenvs/wifi-mesh-bandwith-evaluation-ZZPij1Nn-py3.12/lib/python3.12/site-packages (from seaborn) (2.2.2)\n",
            "Requirement already satisfied: matplotlib!=3.6.1,>=3.4 in /home/working/.cache/pypoetry/virtualenvs/wifi-mesh-bandwith-evaluation-ZZPij1Nn-py3.12/lib/python3.12/site-packages (from seaborn) (3.10.7)\n",
            "Requirement already satisfied: contourpy>=1.0.1 in /home/working/.cache/pypoetry/virtualenvs/wifi-mesh-bandwith-evaluation-ZZPij1Nn-py3.12/lib/python3.12/site-packages (from matplotlib!=3.6.1,>=3.4->seaborn) (1.3.3)\n",
            "Requirement already satisfied: cycler>=0.10 in /home/working/.cache/pypoetry/virtualenvs/wifi-mesh-bandwith-evaluation-ZZPij1Nn-py3.12/lib/python3.12/site-packages (from matplotlib!=3.6.1,>=3.4->seaborn) (0.12.1)\n",
            "Requirement already satisfied: fonttools>=4.22.0 in /home/working/.cache/pypoetry/virtualenvs/wifi-mesh-bandwith-evaluation-ZZPij1Nn-py3.12/lib/python3.12/site-packages (from matplotlib!=3.6.1,>=3.4->seaborn) (4.60.1)\n",
            "Requirement already satisfied: kiwisolver>=1.3.1 in /home/working/.cache/pypoetry/virtualenvs/wifi-mesh-bandwith-evaluation-ZZPij1Nn-py3.12/lib/python3.12/site-packages (from matplotlib!=3.6.1,>=3.4->seaborn) (1.4.9)\n",
            "Requirement already satisfied: packaging>=20.0 in /home/working/.cache/pypoetry/virtualenvs/wifi-mesh-bandwith-evaluation-ZZPij1Nn-py3.12/lib/python3.12/site-packages (from matplotlib!=3.6.1,>=3.4->seaborn) (24.1)\n",
            "Requirement already satisfied: pillow>=8 in /home/working/.cache/pypoetry/virtualenvs/wifi-mesh-bandwith-evaluation-ZZPij1Nn-py3.12/lib/python3.12/site-packages (from matplotlib!=3.6.1,>=3.4->seaborn) (12.0.0)\n",
            "Requirement already satisfied: pyparsing>=3 in /home/working/.cache/pypoetry/virtualenvs/wifi-mesh-bandwith-evaluation-ZZPij1Nn-py3.12/lib/python3.12/site-packages (from matplotlib!=3.6.1,>=3.4->seaborn) (3.2.5)\n",
            "Requirement already satisfied: python-dateutil>=2.7 in /home/working/.cache/pypoetry/virtualenvs/wifi-mesh-bandwith-evaluation-ZZPij1Nn-py3.12/lib/python3.12/site-packages (from matplotlib!=3.6.1,>=3.4->seaborn) (2.9.0.post0)\n",
            "Requirement already satisfied: pytz>=2020.1 in /home/working/.cache/pypoetry/virtualenvs/wifi-mesh-bandwith-evaluation-ZZPij1Nn-py3.12/lib/python3.12/site-packages (from pandas>=1.2->seaborn) (2024.2)\n",
            "Requirement already satisfied: tzdata>=2022.7 in /home/working/.cache/pypoetry/virtualenvs/wifi-mesh-bandwith-evaluation-ZZPij1Nn-py3.12/lib/python3.12/site-packages (from pandas>=1.2->seaborn) (2024.1)\n",
            "Requirement already satisfied: six>=1.5 in /home/working/.cache/pypoetry/virtualenvs/wifi-mesh-bandwith-evaluation-ZZPij1Nn-py3.12/lib/python3.12/site-packages (from python-dateutil>=2.7->matplotlib!=3.6.1,>=3.4->seaborn) (1.16.0)\n",
            "\n",
            "\u001b[1m[\u001b[0m\u001b[34;49mnotice\u001b[0m\u001b[1;39;49m]\u001b[0m\u001b[39;49m A new release of pip is available: \u001b[0m\u001b[31;49m24.1\u001b[0m\u001b[39;49m -> \u001b[0m\u001b[32;49m25.3\u001b[0m\n",
            "\u001b[1m[\u001b[0m\u001b[34;49mnotice\u001b[0m\u001b[1;39;49m]\u001b[0m\u001b[39;49m To update, run: \u001b[0m\u001b[32;49mpip install --upgrade pip\u001b[0m\n",
            "Requirement already satisfied: folium in /home/working/.cache/pypoetry/virtualenvs/wifi-mesh-bandwith-evaluation-ZZPij1Nn-py3.12/lib/python3.12/site-packages (0.20.0)\n",
            "Requirement already satisfied: branca>=0.6.0 in /home/working/.cache/pypoetry/virtualenvs/wifi-mesh-bandwith-evaluation-ZZPij1Nn-py3.12/lib/python3.12/site-packages (from folium) (0.8.2)\n",
            "Requirement already satisfied: jinja2>=2.9 in /home/working/.cache/pypoetry/virtualenvs/wifi-mesh-bandwith-evaluation-ZZPij1Nn-py3.12/lib/python3.12/site-packages (from folium) (3.1.6)\n",
            "Requirement already satisfied: numpy in /home/working/.cache/pypoetry/virtualenvs/wifi-mesh-bandwith-evaluation-ZZPij1Nn-py3.12/lib/python3.12/site-packages (from folium) (2.1.1)\n",
            "Requirement already satisfied: requests in /home/working/.cache/pypoetry/virtualenvs/wifi-mesh-bandwith-evaluation-ZZPij1Nn-py3.12/lib/python3.12/site-packages (from folium) (2.32.5)\n",
            "Requirement already satisfied: xyzservices in /home/working/.cache/pypoetry/virtualenvs/wifi-mesh-bandwith-evaluation-ZZPij1Nn-py3.12/lib/python3.12/site-packages (from folium) (2025.10.0)\n",
            "Requirement already satisfied: MarkupSafe>=2.0 in /home/working/.cache/pypoetry/virtualenvs/wifi-mesh-bandwith-evaluation-ZZPij1Nn-py3.12/lib/python3.12/site-packages (from jinja2>=2.9->folium) (3.0.3)\n",
            "Requirement already satisfied: charset_normalizer<4,>=2 in /home/working/.cache/pypoetry/virtualenvs/wifi-mesh-bandwith-evaluation-ZZPij1Nn-py3.12/lib/python3.12/site-packages (from requests->folium) (3.4.4)\n",
            "Requirement already satisfied: idna<4,>=2.5 in /home/working/.cache/pypoetry/virtualenvs/wifi-mesh-bandwith-evaluation-ZZPij1Nn-py3.12/lib/python3.12/site-packages (from requests->folium) (3.11)\n",
            "Requirement already satisfied: urllib3<3,>=1.21.1 in /home/working/.cache/pypoetry/virtualenvs/wifi-mesh-bandwith-evaluation-ZZPij1Nn-py3.12/lib/python3.12/site-packages (from requests->folium) (2.5.0)\n",
            "Requirement already satisfied: certifi>=2017.4.17 in /home/working/.cache/pypoetry/virtualenvs/wifi-mesh-bandwith-evaluation-ZZPij1Nn-py3.12/lib/python3.12/site-packages (from requests->folium) (2024.8.30)\n",
            "\n",
            "\u001b[1m[\u001b[0m\u001b[34;49mnotice\u001b[0m\u001b[1;39;49m]\u001b[0m\u001b[39;49m A new release of pip is available: \u001b[0m\u001b[31;49m24.1\u001b[0m\u001b[39;49m -> \u001b[0m\u001b[32;49m25.3\u001b[0m\n",
            "\u001b[1m[\u001b[0m\u001b[34;49mnotice\u001b[0m\u001b[1;39;49m]\u001b[0m\u001b[39;49m To update, run: \u001b[0m\u001b[32;49mpip install --upgrade pip\u001b[0m\n",
            "Requirement already satisfied: plotly in /home/working/.cache/pypoetry/virtualenvs/wifi-mesh-bandwith-evaluation-ZZPij1Nn-py3.12/lib/python3.12/site-packages (6.3.1)\n",
            "Requirement already satisfied: narwhals>=1.15.1 in /home/working/.cache/pypoetry/virtualenvs/wifi-mesh-bandwith-evaluation-ZZPij1Nn-py3.12/lib/python3.12/site-packages (from plotly) (2.10.0)\n",
            "Requirement already satisfied: packaging in /home/working/.cache/pypoetry/virtualenvs/wifi-mesh-bandwith-evaluation-ZZPij1Nn-py3.12/lib/python3.12/site-packages (from plotly) (24.1)\n",
            "\n",
            "\u001b[1m[\u001b[0m\u001b[34;49mnotice\u001b[0m\u001b[1;39;49m]\u001b[0m\u001b[39;49m A new release of pip is available: \u001b[0m\u001b[31;49m24.1\u001b[0m\u001b[39;49m -> \u001b[0m\u001b[32;49m25.3\u001b[0m\n",
            "\u001b[1m[\u001b[0m\u001b[34;49mnotice\u001b[0m\u001b[1;39;49m]\u001b[0m\u001b[39;49m To update, run: \u001b[0m\u001b[32;49mpip install --upgrade pip\u001b[0m\n"
          ]
        }
      ],
      "source": [
        "!pip install ipykernel;\n",
        "!pip install matplotlib;\n",
        "!pip install seaborn;\n",
        "!pip install folium;\n",
        "!pip install plotly;"
      ]
    },
    {
      "cell_type": "code",
      "execution_count": 36,
      "metadata": {},
      "outputs": [],
      "source": [
        "import pandas as pd;\n",
        "import numpy as np;\n",
        "import geopandas as gpd;\n",
        "import folium;\n",
        "import os;\n",
        "import seaborn as sns;\n",
        "import plotly.express as px\n",
        "import plotly.graph_objects as go\n",
        "from plotly.subplots import make_subplots"
      ]
    },
    {
      "cell_type": "markdown",
      "metadata": {
        "id": "YSJ_MuEwsOh7"
      },
      "source": [
        "## Load testtraces"
      ]
    },
    {
      "cell_type": "markdown",
      "metadata": {},
      "source": [
        "We recorded multiple traces in two different setups. The synced testtraces within _results/bandwithtest_09072024_mesh_wlan-b_ contain additional informations about the latency. For the bandwith evaluation we will use all of them."
      ]
    },
    {
      "cell_type": "code",
      "execution_count": 3,
      "metadata": {
        "id": "QenQl1AysOh7"
      },
      "outputs": [],
      "source": [
        "folder = 'results'\n",
        "\n",
        "testtraces = {}\n",
        "for dir in os.listdir(folder):\n",
        "      testtraces[dir] = []\n",
        "      try:\n",
        "          for file in os.listdir(os.path.join(folder, dir)):\n",
        "              if \"pcap\" not in file:\n",
        "                  file_path = os.path.join(folder, dir, file)\n",
        "                  df = pd.read_csv(file_path)\n",
        "                  testtraces[dir].append(df)\n",
        "      except Exception as e:\n",
        "          print(f\"Failed to read {file_path}: {e}\")\n"
      ]
    },
    {
      "cell_type": "code",
      "execution_count": 4,
      "metadata": {
        "colab": {
          "base_uri": "https://localhost:8080/",
          "height": 206
        },
        "id": "iO8E_jj9whUy",
        "outputId": "f6244d65-0e9e-4493-8f28-bd36fca99b74"
      },
      "outputs": [
        {
          "data": {
            "text/html": [
              "<div>\n",
              "<style scoped>\n",
              "    .dataframe tbody tr th:only-of-type {\n",
              "        vertical-align: middle;\n",
              "    }\n",
              "\n",
              "    .dataframe tbody tr th {\n",
              "        vertical-align: top;\n",
              "    }\n",
              "\n",
              "    .dataframe thead th {\n",
              "        text-align: right;\n",
              "    }\n",
              "</style>\n",
              "<table border=\"1\" class=\"dataframe\">\n",
              "  <thead>\n",
              "    <tr style=\"text-align: right;\">\n",
              "      <th></th>\n",
              "      <th>Unnamed: 0</th>\n",
              "      <th>Time</th>\n",
              "      <th>Latitude</th>\n",
              "      <th>Longitude</th>\n",
              "      <th>Bitrate</th>\n",
              "      <th>Latency</th>\n",
              "      <th>DISTANCE_CENTER</th>\n",
              "      <th>DISTANCE_AP_RUESTHALLE</th>\n",
              "      <th>DISTANCE_AP_GARAGE</th>\n",
              "    </tr>\n",
              "  </thead>\n",
              "  <tbody>\n",
              "    <tr>\n",
              "      <th>0</th>\n",
              "      <td>0</td>\n",
              "      <td>11:41:55.248000</td>\n",
              "      <td>52.315723</td>\n",
              "      <td>10.564559</td>\n",
              "      <td>1.31</td>\n",
              "      <td>3.74</td>\n",
              "      <td>189.419552</td>\n",
              "      <td>228.346361</td>\n",
              "      <td>146.736744</td>\n",
              "    </tr>\n",
              "    <tr>\n",
              "      <th>1</th>\n",
              "      <td>1</td>\n",
              "      <td>11:41:56.248000</td>\n",
              "      <td>52.315727</td>\n",
              "      <td>10.564529</td>\n",
              "      <td>0.00</td>\n",
              "      <td>154.00</td>\n",
              "      <td>187.333062</td>\n",
              "      <td>226.257243</td>\n",
              "      <td>144.663165</td>\n",
              "    </tr>\n",
              "    <tr>\n",
              "      <th>2</th>\n",
              "      <td>2</td>\n",
              "      <td>11:41:57.248000</td>\n",
              "      <td>52.315732</td>\n",
              "      <td>10.564495</td>\n",
              "      <td>1.57</td>\n",
              "      <td>383.00</td>\n",
              "      <td>184.941540</td>\n",
              "      <td>223.862744</td>\n",
              "      <td>142.286387</td>\n",
              "    </tr>\n",
              "    <tr>\n",
              "      <th>3</th>\n",
              "      <td>3</td>\n",
              "      <td>11:41:58.248000</td>\n",
              "      <td>52.315735</td>\n",
              "      <td>10.564457</td>\n",
              "      <td>0.00</td>\n",
              "      <td>300.00</td>\n",
              "      <td>182.369709</td>\n",
              "      <td>221.288577</td>\n",
              "      <td>139.727164</td>\n",
              "    </tr>\n",
              "    <tr>\n",
              "      <th>4</th>\n",
              "      <td>4</td>\n",
              "      <td>11:42:00.248000</td>\n",
              "      <td>52.315744</td>\n",
              "      <td>10.564365</td>\n",
              "      <td>1.56</td>\n",
              "      <td>13.60</td>\n",
              "      <td>176.021568</td>\n",
              "      <td>214.936401</td>\n",
              "      <td>133.404155</td>\n",
              "    </tr>\n",
              "  </tbody>\n",
              "</table>\n",
              "</div>"
            ],
            "text/plain": [
              "   Unnamed: 0             Time   Latitude  Longitude  Bitrate  Latency  \\\n",
              "0           0  11:41:55.248000  52.315723  10.564559     1.31     3.74   \n",
              "1           1  11:41:56.248000  52.315727  10.564529     0.00   154.00   \n",
              "2           2  11:41:57.248000  52.315732  10.564495     1.57   383.00   \n",
              "3           3  11:41:58.248000  52.315735  10.564457     0.00   300.00   \n",
              "4           4  11:42:00.248000  52.315744  10.564365     1.56    13.60   \n",
              "\n",
              "   DISTANCE_CENTER  DISTANCE_AP_RUESTHALLE  DISTANCE_AP_GARAGE  \n",
              "0       189.419552              228.346361          146.736744  \n",
              "1       187.333062              226.257243          144.663165  \n",
              "2       184.941540              223.862744          142.286387  \n",
              "3       182.369709              221.288577          139.727164  \n",
              "4       176.021568              214.936401          133.404155  "
            ]
          },
          "execution_count": 4,
          "metadata": {},
          "output_type": "execute_result"
        }
      ],
      "source": [
        "testtraces['bandwithtest_09072924_mesh_wlan-b'][0].head()"
      ]
    },
    {
      "cell_type": "markdown",
      "metadata": {},
      "source": [
        "The data consists of the following informations:\n",
        "\n",
        "| Entity                 | Unit        |\n",
        "|------------------------|-------------|\n",
        "| Time                   | [localtime] |\n",
        "| Latitude               | [wgs84]     |\n",
        "| Longitude              | [wgs84]     |\n",
        "| Bitrate                | [MB/s]      |\n",
        "| Latency                | [ms]        |\n",
        "| DISTANCE_CENTER        | [m]         |\n",
        "| DISTANCE_AP_RUESTHALLE | [m]         |\n",
        "| DISTANCE_AP_GARAGE     | [m]         |\n",
        "\n",
        "The values for _DISTANCE_CENTER_, _DISTANCE_AP_RUESTHALLE_ and _DISTANCE_AP_GARAGE_ are calculated. _DISTANCE_CENTER_ describes the distance between the vehicle position and the middle point between both accesspoints. _DISTANCE_AP_RUESTHALLE_ and _DISTANCE_AP_GARAGE_ are describing the distance between accesspoint-1/accesspoint-2.The last two distances are calculated for proofing reasons."
      ]
    },
    {
      "cell_type": "markdown",
      "metadata": {
        "id": "ory6eXbSsOh9"
      },
      "source": [
        "## Bandwith results: Distance to center\n",
        "\n",
        "For the evaluation we'll concatenate the single recordings to one dataframe. In the next step we'll remove the outliers for this we need to visualise the distribution and check for the most suitable methods. \n",
        "\n",
        "### Outlier Removal through IQR\n",
        "\n",
        "IQR removes outliers by calculating thresholds of normal distributions. Each value that exceeds this threshold is signed as outlier. As you can see in the next plots the distribution of values for _Bitrate_ and _Latency_ is not a normal distribution. The Shapiro-Wilk-Test confirms this by calculating values for p that do not fulfill _p>0.05_. So IQR is not a suitable method for this dataset."
      ]
    },
    {
      "cell_type": "code",
      "execution_count": 28,
      "metadata": {},
      "outputs": [],
      "source": [
        "# Concatenate all dataframes to plot on a single figure\n",
        "all_dfs = []\n",
        "for testname, list_of_dfs in testtraces.items():\n",
        "    all_dfs.extend(list_of_dfs)\n",
        "\n",
        "combined_df = pd.concat(all_dfs, ignore_index=True)"
      ]
    },
    {
      "cell_type": "code",
      "execution_count": 37,
      "metadata": {},
      "outputs": [
        {
          "data": {
            "application/vnd.plotly.v1+json": {
              "config": {
                "plotlyServerURL": "https://plot.ly"
              },
              "data": [
                {
                  "marker": {
                    "line": {
                      "color": "black",
                      "width": 1
                    }
                  },
                  "name": "Bitrate",
                  "nbinsx": 100,
                  "type": "histogram",
                  "x": {
                    "bdata": "9ihcj8L19D8AAAAAAAAAAB+F61G4Hvk/AAAAAAAAAAD2KFyPwvX4PwAAAAAAAAAAAAAAAAAAAAD2KFyPwvX4P/YoXI/C9fg/uB6F61G4AED2KFyPwvX4P+F6FK5H4QRArkfhehSuIEDD9Shcj8ISQDMzMzMzszxAzczMzMzMMkDNzMzMzExDQAAAAAAAAEJAMzMzMzOzR0AzMzMzM7MxQDMzMzMzM0FAMzMzMzMzR0AzMzMzM1NRQAAAAAAAAE9AMzMzMzMTVEAzMzMzMxNXQDMzMzMzM1RAzczMzMyMVkDNzMzMzMxWQM3MzMzMjFZAMzMzMzNTVEDNzMzMzMxWQM3MzMzM7FNAMzMzMzNTVEDNzMzMzMxWQM3MzMzM7FZAMzMzMzNzV0BmZmZmZoZXQJqZmZmZmVdAMzMzMzNzT0CamZmZmflUQJqZmZmZ+VRAMzMzMzNzT0CamZmZmflUQAAAAAAAgD9AmpmZmZn5VECamZmZmflUQDMzMzMzM0pAAAAAAAAAJUAAAAAAAAA1QAAAAAAAACVAAAAAAAAANUAAAAAAAAAlQAAAAAAAACVAAAAAAAAAJUAAAAAAAAA1QAAAAAAAAAAAAAAAAAAAAAAAAAAAAAAAAAAAAAAAAAAAAAAAAADgf0AUrkfhehT2PwAAAAAASIBAKVyPwvUo9D+amZmZmZlLQGZmZmZmplhAmpmZmZmZV0CamZmZmflUQJqZmZmZ+VRAmpmZmZn5VECamZmZmflUQJqZmZmZmVdAmpmZmZmZV0CamZmZmZlXQJqZmZmZmVdAmpmZmZmZV0CamZmZmVlSQDMzMzMzc09AmpmZmZmZV0CamZmZmZlXQGZmZmZmZj9AAAAAAAAAJUAAAAAAAAAlQAAAAAAAgD9AAAAAAACAP0AzMzMzM/NEQDMzMzMz80RAAAAAAACAP0AAAAAAAIA/QAAAAAAAgD9AAAAAAAAANUAAAAAAAIA/QAAAAAAAADVAAAAAAAAAJUAAAAAAAAA1QAAAAAAAADVAAAAAAAAAJUAAAAAAAAAlQAAAAAAAADVAAAAAAAAAJUAAAAAAAAAlQAAAAAAAAAAAAAAAAAAANUCamZmZmVlSQJqZmZmZmVdAmpmZmZlZUkCamZmZmflUQJqZmZmZWVJAMzMzMzMzSkAzMzMzM/NEQAAAAAAAADVAAAAAAAAANUAAAAAAAAA1QAAAAAAAADVAAAAAAAAAJUAAAAAAAAAAAAAAAAAAAFpAmpmZmZmZV0CamZmZmZlXQJqZmZmZ+VRAmpmZmZmZV0CamZmZmZlXQJqZmZmZmVdAmpmZmZmZV0CamZmZmZlXQJqZmZmZmVdAmpmZmZmZV0CamZmZmZlXQJqZmZmZmVdAmpmZmZmZV0CamZmZmZlXQJqZmZmZWVJAmpmZmZmZV0CamZmZmflUQDMzMzMzc09AMzMzMzNzT0AAAAAAAKBSQAAAAAAAAEhAzczMzMzMUEDNzMzMzExQQAAAAAAAoFJAZmZmZmYmVkAAAAAAAEBSQM3MzMzMzFNAZmZmZmbGWEDNzMzMzExQQGZmZmZm5lJAAAAAAABAWEDNzMzMzOxWQGZmZmZm5lhAMzMzMzPzVECamZmZmZlXQJqZmZmZmVdAmpmZmZmZV0CamZmZmZlXQJqZmZmZmVdAmpmZmZmZV0AzMzMzMzNKQAAAAAAAADVAAAAAAAAANUAAAAAAAAAAAAAAAAAAACVAAAAAAAAAAAAAAAAAAAAAAAAAAAAAAAAAAAAAAAAAAAAAAAAAAAAAAAAAAAAAAAAAAAAAAAAAJUAAAAAAAAAAAAAAAAAAAAAAAAAAAAAAJUAAAAAAAAAlQAAAAAAAAAAAAAAAAAAAAAAAAAAAAAAlQAAAAAAAAAAAAAAAAAAAJUAAAAAAAAAlQAAAAAAAACVAAAAAAAAANUAAAAAAAAA1QDMzMzMzM0pAMzMzMzPzREAzMzMzMzNKQDMzMzMzM0pAMzMzMzMzSkAzMzMzM/NEQAAAAAAAgD9AAAAAAAAAJUAAAAAAAAA1QAAAAAAAgD9AAAAAAAAANUAAAAAAAAA1QAAAAAAAACVAAAAAAAAAAAAK16NwPQoJQAAAAAAAAEJAMzMzMzPzQEAzMzMzM/NAQDMzMzMzszBAAAAAAACAOUAzMzMzM7MxQDMzMzMzM0FAmpmZmZnZSkAzMzMzMxNRQDMzMzMzU1FAAAAAAABgVUAAAAAAAMBVQJqZmZmZ+VdAZmZmZmYmVkDNzMzMzGxWQAAAAAAAQFVAmpmZmZm5VEDNzMzMzIxXQJqZmZmZmVdAmpmZmZmZV0CamZmZmZlXQJqZmZmZmVdAmpmZmZmZV0CamZmZmflUQJqZmZmZ+VRAmpmZmZlZUkAzMzMzM3NPQJqZmZmZWVJAmpmZmZn5VECamZmZmflUQJqZmZmZWVJAMzMzMzMzSkCamZmZmflUQJqZmZmZmVdAMzMzMzMzSkAAAAAAAAA1QAAAAAAAACVAAAAAAAAAAAAAAAAAAAAlQAAAAAAAAAAAAAAAAAAAJUAAAAAAAAAlQAAAAAAAAAAAAAAAAAAAJUAAAAAAAAAlQAAAAAAAACVAAAAAAAAAJUAAAAAAAAAAAAAAAAAAAAAAAAAAAAAAJUAAAAAAAAAAAAAAAAAAAAAAAAAAAAAAAAAAAAAAAAAAAM3MzMzMLFZAZmZmZmaGV0CamZmZmVlSQJqZmZmZ+VRAmpmZmZmZV0CamZmZmZlXQDMzMzMz80RAMzMzMzMzSkAAAAAAAAA1QAAAAAAAADVAAAAAAAAANUAAAAAAAAAlQAAAAAAAACVAAAAAAAAAJUAAAAAAAAAlQAAAAAAAACVAAAAAAAAAJUAAAAAAAAAAAAAAAAAAAAAAAAAAAAAAAAAAAAAAAAAAAAAAAAAAAAAAAAAAAAAAAAAAAAAAAAAAAAAAAAAAAAAAAAAAAAAAAAAAAAAAAAAAAAAAAAAAAAAAAAAAAAAAJUAAAAAAAAAAAAAAAAAAAAAAAAAAAAAAAAAAAAAAAAAAAAAAAAAAAAAAAAAAAAAAJUAAAAAAAAAAAAAAAAAAAAAAAAAAAAAAAAAAAAAAAAAAAAAAAAAAAAAAAAAAAAAAAAAAAAAAAAAAAAAAAAAAAAAAAAAAAAAAJUAAAAAAAAAAAAAAAAAAAAAAAAAAAAAAAAAAAAAAAAAlQAAAAAAAACVAAAAAAACAP0AAAAAAAABFQDMzMzMzM0pAZmZmZmZmP0AAAAAAAIA/QDMzMzMz80RAzczMzMxMNEAAAAAAAAA4QM3MzMzMzDJAZmZmZmbmNUBI4XoUrkcfQDMzMzMzszFAMzMzMzOzMUAAAAAAAMBCQM3MzMzMzD5AMzMzMzPzREAzMzMzM/NEQJqZmZmZ+VRAmpmZmZn5VECamZmZmZlXQDMzMzMzc09AmpmZmZmZV0CamZmZmZlXQJqZmZmZmVdAmpmZmZmZV0CamZmZmZlXQJqZmZmZmVdAmpmZmZmZV0AzMzMzMzNKQJqZmZmZ+VRAmpmZmZn5VECamZmZmflUQJqZmZmZmVdAMzMzMzNzT0CamZmZmflUQDMzMzMz80RAAAAAAACAP0AzMzMzM/NEQAAAAAAAACVAAAAAAAAANUAAAAAAAAA1QAAAAAAAAAAAAAAAAAAAAAAAAAAAAAAAAAAAAAAAAAAAAAAAAAAAJUAAAAAAAAAAAAAAAAAAAAAAAAAAAAAAAAAAAAAAAAAAAAAAAAAAAAAAAAAAAAAAAAAAAAAAAAAAAAAAAAAAAAAAAAAAAAAAAAAAAAAAAAAAAAAAAAAAAAAAAAAAAAAAAAAAAAAAAMBdQJqZmZmZGT5AMzMzMzOzPUAzMzMzM5NXQJqZmZmZmVdAmpmZmZmZV0CamZmZmflUQDMzMzMzk1dAmpmZmZmZV0CamZmZmVlSQJqZmZmZWVJAMzMzMzMzSkAAAAAAAAAlQAAAAAAAACVAAAAAAAAAJUAAAAAAAAAlQAAAAAAAADVAAAAAAAAANUAAAAAAAAA1QAAAAAAAACVAAAAAAAAANUAAAAAAAAA1QAAAAAAAACVAAAAAAAAAJUAAAAAAAAA1QAAAAAAAACVAAAAAAAAAJUAAAAAAAAAlQMP1KFyPwg1ACtejcD0KCUA9CtejcL0hQDMzMzMzMy9ACtejcD0KCUAK16NwPQoZQM3MzMzMDERAAAAAAACAQkBmZmZmZuY1QGZmZmZmJkZAzczMzMwMSkAzMzMzMxNUQDMzMzMzU1RAmpmZmZm5V0CamZmZmblXQDMzMzMzc1RAZmZmZmbmUkDNzMzMzIxTQDMzMzMz81NAmpmZmZn5V0CamZmZmZlXQDMzMzMzc1dAmpmZmZmZV0CamZmZmdlXQDMzMzMzc1RAZmZmZmYGUECamZmZmZlUQM3MzMzM7FZAzczMzMyMSUCamZmZmblRQM3MzMzMTDNASOF6FK7HIkBI4XoUrsciQEjhehSuxyJASOF6FK7HIkAAAAAAAMBeQDMzMzMzk1dAMzMzMzNzV0CamZmZmZlXQJqZmZmZmVdAmpmZmZmZV0CamZmZmflUQJqZmZmZmVdAmpmZmZmZV0CamZmZmZlXQJqZmZmZmVdAmpmZmZmZV0CamZmZmZlXQDMzMzMzk1dAmpmZmZmZV0CamZmZmZlXQJqZmZmZmVdAmpmZmZmZV0CamZmZmZlXQJqZmZmZmVdAmpmZmZmZV0CamZmZmZlXQJqZmZmZmVdAmpmZmZmZV0CamZmZmZlXQJqZmZmZmVdAmpmZmZmZV0CamZmZmflUQJqZmZmZmVdAmpmZmZmZV0CamZmZmZlXQJqZmZmZmVdAmpmZmZmZV0CamZmZmZlXQJqZmZmZmVdAmpmZmZmZV0CamZmZmZlXQJqZmZmZmVdAmpmZmZmZV0CamZmZmZlXQJqZmZmZmVdAMzMzMzOTV0CamZmZmZlXQJqZmZmZmVdAMzMzMzOTV0CamZmZmZlXQJqZmZmZmVdAmpmZmZn5VEAAAAAAAEBaQJqZmZmZ+VRAMzMzMzOTV0CamZmZmZlXQJqZmZmZmVdAMzMzMzOTV0CamZmZmZlXQJqZmZmZmVdAmpmZmZmZV0CamZmZmZlXQJqZmZmZmVdAmpmZmZmZV0CamZmZmZlXQJqZmZmZmVdAzczMzMzMLUCamZmZmRlFQGZmZmZmZkZAzczMzMwMQ0DNzMzMzEw/QJqZmZmZeVFAzczMzMysUEDNzMzMzExXQJqZmZmZ+VRAmpmZmZlZUkCamZmZmZlXQDMzMzMz80RAAAAAAAAAJUAAAAAAAAA1QAAAAAAAADVAAAAAAAAAJUAAAAAAAAA1QAAAAAAAACVAAAAAAAAAJUAAAAAAAAA1QAAAAAAAACVAAAAAAAAAJUAAAAAAAAAlQAAAAAAAADVAAAAAAAAAJUAAAAAAAAAlQDMzMzMzM0pAAAAAAAAAJUAAAAAAAIA/QDMzMzMz80RAMzMzMzPzREAAAAAAAAA1QAAAAAAAADVAAAAAAAAANUAAAAAAAAAlQGZmZmZmpkZAZmZmZmbmOEDNzMzMzMwzQGZmZmZmZjZAZmZmZmamRUAAAAAAAEBVQDMzMzMzM0pAAAAAAAAAJUAAAAAAAAA1QAAAAAAAADVAAAAAAACAP0AAAAAAAIA/QAAAAAAAgD9AAAAAAACAP0AAAAAAAIA/QAAAAAAAADVAAAAAAAAAJUAAAAAAAAA1QAAAAAAAACVAAAAAAAAAJUAAAAAAAAAlQAAAAAAAACVAAAAAAAAAJUAAAAAAAAAlQAAAAAAAADVAAAAAAAAAJUAAAAAAAIBPQJqZmZmZWVJAmpmZmZn5VECamZmZmflUQDMzMzMz80RAmpmZmZn5VECamZmZmVlSQJqZmZmZ+VRAmpmZmZn5VEAzMzMzMzNKQAAAAAAAADVAMzMzMzMzSkAAAAAAAAA1QAAAAAAAADVAAAAAAAAAJUAAAAAAAAAlQAAAAAAAACVAAAAAAAAAJUAAAAAAAAAlQA==",
                    "dtype": "f8"
                  },
                  "xaxis": "x",
                  "yaxis": "y"
                },
                {
                  "marker": {
                    "line": {
                      "color": "black",
                      "width": 1
                    }
                  },
                  "name": "Latency",
                  "nbinsx": 100,
                  "type": "histogram",
                  "x": {
                    "bdata": "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",
                    "dtype": "f8"
                  },
                  "xaxis": "x2",
                  "yaxis": "y2"
                }
              ],
              "layout": {
                "annotations": [
                  {
                    "font": {
                      "size": 16
                    },
                    "showarrow": false,
                    "text": "Distribution of Bitrate-data",
                    "x": 0.225,
                    "xanchor": "center",
                    "xref": "paper",
                    "y": 1,
                    "yanchor": "bottom",
                    "yref": "paper"
                  },
                  {
                    "font": {
                      "size": 16
                    },
                    "showarrow": false,
                    "text": "Distribution of Latency-data",
                    "x": 0.775,
                    "xanchor": "center",
                    "xref": "paper",
                    "y": 1,
                    "yanchor": "bottom",
                    "yref": "paper"
                  }
                ],
                "showlegend": false,
                "template": {
                  "data": {
                    "bar": [
                      {
                        "error_x": {
                          "color": "#2a3f5f"
                        },
                        "error_y": {
                          "color": "#2a3f5f"
                        },
                        "marker": {
                          "line": {
                            "color": "#E5ECF6",
                            "width": 0.5
                          },
                          "pattern": {
                            "fillmode": "overlay",
                            "size": 10,
                            "solidity": 0.2
                          }
                        },
                        "type": "bar"
                      }
                    ],
                    "barpolar": [
                      {
                        "marker": {
                          "line": {
                            "color": "#E5ECF6",
                            "width": 0.5
                          },
                          "pattern": {
                            "fillmode": "overlay",
                            "size": 10,
                            "solidity": 0.2
                          }
                        },
                        "type": "barpolar"
                      }
                    ],
                    "carpet": [
                      {
                        "aaxis": {
                          "endlinecolor": "#2a3f5f",
                          "gridcolor": "white",
                          "linecolor": "white",
                          "minorgridcolor": "white",
                          "startlinecolor": "#2a3f5f"
                        },
                        "baxis": {
                          "endlinecolor": "#2a3f5f",
                          "gridcolor": "white",
                          "linecolor": "white",
                          "minorgridcolor": "white",
                          "startlinecolor": "#2a3f5f"
                        },
                        "type": "carpet"
                      }
                    ],
                    "choropleth": [
                      {
                        "colorbar": {
                          "outlinewidth": 0,
                          "ticks": ""
                        },
                        "type": "choropleth"
                      }
                    ],
                    "contour": [
                      {
                        "colorbar": {
                          "outlinewidth": 0,
                          "ticks": ""
                        },
                        "colorscale": [
                          [
                            0,
                            "#0d0887"
                          ],
                          [
                            0.1111111111111111,
                            "#46039f"
                          ],
                          [
                            0.2222222222222222,
                            "#7201a8"
                          ],
                          [
                            0.3333333333333333,
                            "#9c179e"
                          ],
                          [
                            0.4444444444444444,
                            "#bd3786"
                          ],
                          [
                            0.5555555555555556,
                            "#d8576b"
                          ],
                          [
                            0.6666666666666666,
                            "#ed7953"
                          ],
                          [
                            0.7777777777777778,
                            "#fb9f3a"
                          ],
                          [
                            0.8888888888888888,
                            "#fdca26"
                          ],
                          [
                            1,
                            "#f0f921"
                          ]
                        ],
                        "type": "contour"
                      }
                    ],
                    "contourcarpet": [
                      {
                        "colorbar": {
                          "outlinewidth": 0,
                          "ticks": ""
                        },
                        "type": "contourcarpet"
                      }
                    ],
                    "heatmap": [
                      {
                        "colorbar": {
                          "outlinewidth": 0,
                          "ticks": ""
                        },
                        "colorscale": [
                          [
                            0,
                            "#0d0887"
                          ],
                          [
                            0.1111111111111111,
                            "#46039f"
                          ],
                          [
                            0.2222222222222222,
                            "#7201a8"
                          ],
                          [
                            0.3333333333333333,
                            "#9c179e"
                          ],
                          [
                            0.4444444444444444,
                            "#bd3786"
                          ],
                          [
                            0.5555555555555556,
                            "#d8576b"
                          ],
                          [
                            0.6666666666666666,
                            "#ed7953"
                          ],
                          [
                            0.7777777777777778,
                            "#fb9f3a"
                          ],
                          [
                            0.8888888888888888,
                            "#fdca26"
                          ],
                          [
                            1,
                            "#f0f921"
                          ]
                        ],
                        "type": "heatmap"
                      }
                    ],
                    "histogram": [
                      {
                        "marker": {
                          "pattern": {
                            "fillmode": "overlay",
                            "size": 10,
                            "solidity": 0.2
                          }
                        },
                        "type": "histogram"
                      }
                    ],
                    "histogram2d": [
                      {
                        "colorbar": {
                          "outlinewidth": 0,
                          "ticks": ""
                        },
                        "colorscale": [
                          [
                            0,
                            "#0d0887"
                          ],
                          [
                            0.1111111111111111,
                            "#46039f"
                          ],
                          [
                            0.2222222222222222,
                            "#7201a8"
                          ],
                          [
                            0.3333333333333333,
                            "#9c179e"
                          ],
                          [
                            0.4444444444444444,
                            "#bd3786"
                          ],
                          [
                            0.5555555555555556,
                            "#d8576b"
                          ],
                          [
                            0.6666666666666666,
                            "#ed7953"
                          ],
                          [
                            0.7777777777777778,
                            "#fb9f3a"
                          ],
                          [
                            0.8888888888888888,
                            "#fdca26"
                          ],
                          [
                            1,
                            "#f0f921"
                          ]
                        ],
                        "type": "histogram2d"
                      }
                    ],
                    "histogram2dcontour": [
                      {
                        "colorbar": {
                          "outlinewidth": 0,
                          "ticks": ""
                        },
                        "colorscale": [
                          [
                            0,
                            "#0d0887"
                          ],
                          [
                            0.1111111111111111,
                            "#46039f"
                          ],
                          [
                            0.2222222222222222,
                            "#7201a8"
                          ],
                          [
                            0.3333333333333333,
                            "#9c179e"
                          ],
                          [
                            0.4444444444444444,
                            "#bd3786"
                          ],
                          [
                            0.5555555555555556,
                            "#d8576b"
                          ],
                          [
                            0.6666666666666666,
                            "#ed7953"
                          ],
                          [
                            0.7777777777777778,
                            "#fb9f3a"
                          ],
                          [
                            0.8888888888888888,
                            "#fdca26"
                          ],
                          [
                            1,
                            "#f0f921"
                          ]
                        ],
                        "type": "histogram2dcontour"
                      }
                    ],
                    "mesh3d": [
                      {
                        "colorbar": {
                          "outlinewidth": 0,
                          "ticks": ""
                        },
                        "type": "mesh3d"
                      }
                    ],
                    "parcoords": [
                      {
                        "line": {
                          "colorbar": {
                            "outlinewidth": 0,
                            "ticks": ""
                          }
                        },
                        "type": "parcoords"
                      }
                    ],
                    "pie": [
                      {
                        "automargin": true,
                        "type": "pie"
                      }
                    ],
                    "scatter": [
                      {
                        "fillpattern": {
                          "fillmode": "overlay",
                          "size": 10,
                          "solidity": 0.2
                        },
                        "type": "scatter"
                      }
                    ],
                    "scatter3d": [
                      {
                        "line": {
                          "colorbar": {
                            "outlinewidth": 0,
                            "ticks": ""
                          }
                        },
                        "marker": {
                          "colorbar": {
                            "outlinewidth": 0,
                            "ticks": ""
                          }
                        },
                        "type": "scatter3d"
                      }
                    ],
                    "scattercarpet": [
                      {
                        "marker": {
                          "colorbar": {
                            "outlinewidth": 0,
                            "ticks": ""
                          }
                        },
                        "type": "scattercarpet"
                      }
                    ],
                    "scattergeo": [
                      {
                        "marker": {
                          "colorbar": {
                            "outlinewidth": 0,
                            "ticks": ""
                          }
                        },
                        "type": "scattergeo"
                      }
                    ],
                    "scattergl": [
                      {
                        "marker": {
                          "colorbar": {
                            "outlinewidth": 0,
                            "ticks": ""
                          }
                        },
                        "type": "scattergl"
                      }
                    ],
                    "scattermap": [
                      {
                        "marker": {
                          "colorbar": {
                            "outlinewidth": 0,
                            "ticks": ""
                          }
                        },
                        "type": "scattermap"
                      }
                    ],
                    "scattermapbox": [
                      {
                        "marker": {
                          "colorbar": {
                            "outlinewidth": 0,
                            "ticks": ""
                          }
                        },
                        "type": "scattermapbox"
                      }
                    ],
                    "scatterpolar": [
                      {
                        "marker": {
                          "colorbar": {
                            "outlinewidth": 0,
                            "ticks": ""
                          }
                        },
                        "type": "scatterpolar"
                      }
                    ],
                    "scatterpolargl": [
                      {
                        "marker": {
                          "colorbar": {
                            "outlinewidth": 0,
                            "ticks": ""
                          }
                        },
                        "type": "scatterpolargl"
                      }
                    ],
                    "scatterternary": [
                      {
                        "marker": {
                          "colorbar": {
                            "outlinewidth": 0,
                            "ticks": ""
                          }
                        },
                        "type": "scatterternary"
                      }
                    ],
                    "surface": [
                      {
                        "colorbar": {
                          "outlinewidth": 0,
                          "ticks": ""
                        },
                        "colorscale": [
                          [
                            0,
                            "#0d0887"
                          ],
                          [
                            0.1111111111111111,
                            "#46039f"
                          ],
                          [
                            0.2222222222222222,
                            "#7201a8"
                          ],
                          [
                            0.3333333333333333,
                            "#9c179e"
                          ],
                          [
                            0.4444444444444444,
                            "#bd3786"
                          ],
                          [
                            0.5555555555555556,
                            "#d8576b"
                          ],
                          [
                            0.6666666666666666,
                            "#ed7953"
                          ],
                          [
                            0.7777777777777778,
                            "#fb9f3a"
                          ],
                          [
                            0.8888888888888888,
                            "#fdca26"
                          ],
                          [
                            1,
                            "#f0f921"
                          ]
                        ],
                        "type": "surface"
                      }
                    ],
                    "table": [
                      {
                        "cells": {
                          "fill": {
                            "color": "#EBF0F8"
                          },
                          "line": {
                            "color": "white"
                          }
                        },
                        "header": {
                          "fill": {
                            "color": "#C8D4E3"
                          },
                          "line": {
                            "color": "white"
                          }
                        },
                        "type": "table"
                      }
                    ]
                  },
                  "layout": {
                    "annotationdefaults": {
                      "arrowcolor": "#2a3f5f",
                      "arrowhead": 0,
                      "arrowwidth": 1
                    },
                    "autotypenumbers": "strict",
                    "coloraxis": {
                      "colorbar": {
                        "outlinewidth": 0,
                        "ticks": ""
                      }
                    },
                    "colorscale": {
                      "diverging": [
                        [
                          0,
                          "#8e0152"
                        ],
                        [
                          0.1,
                          "#c51b7d"
                        ],
                        [
                          0.2,
                          "#de77ae"
                        ],
                        [
                          0.3,
                          "#f1b6da"
                        ],
                        [
                          0.4,
                          "#fde0ef"
                        ],
                        [
                          0.5,
                          "#f7f7f7"
                        ],
                        [
                          0.6,
                          "#e6f5d0"
                        ],
                        [
                          0.7,
                          "#b8e186"
                        ],
                        [
                          0.8,
                          "#7fbc41"
                        ],
                        [
                          0.9,
                          "#4d9221"
                        ],
                        [
                          1,
                          "#276419"
                        ]
                      ],
                      "sequential": [
                        [
                          0,
                          "#0d0887"
                        ],
                        [
                          0.1111111111111111,
                          "#46039f"
                        ],
                        [
                          0.2222222222222222,
                          "#7201a8"
                        ],
                        [
                          0.3333333333333333,
                          "#9c179e"
                        ],
                        [
                          0.4444444444444444,
                          "#bd3786"
                        ],
                        [
                          0.5555555555555556,
                          "#d8576b"
                        ],
                        [
                          0.6666666666666666,
                          "#ed7953"
                        ],
                        [
                          0.7777777777777778,
                          "#fb9f3a"
                        ],
                        [
                          0.8888888888888888,
                          "#fdca26"
                        ],
                        [
                          1,
                          "#f0f921"
                        ]
                      ],
                      "sequentialminus": [
                        [
                          0,
                          "#0d0887"
                        ],
                        [
                          0.1111111111111111,
                          "#46039f"
                        ],
                        [
                          0.2222222222222222,
                          "#7201a8"
                        ],
                        [
                          0.3333333333333333,
                          "#9c179e"
                        ],
                        [
                          0.4444444444444444,
                          "#bd3786"
                        ],
                        [
                          0.5555555555555556,
                          "#d8576b"
                        ],
                        [
                          0.6666666666666666,
                          "#ed7953"
                        ],
                        [
                          0.7777777777777778,
                          "#fb9f3a"
                        ],
                        [
                          0.8888888888888888,
                          "#fdca26"
                        ],
                        [
                          1,
                          "#f0f921"
                        ]
                      ]
                    },
                    "colorway": [
                      "#636efa",
                      "#EF553B",
                      "#00cc96",
                      "#ab63fa",
                      "#FFA15A",
                      "#19d3f3",
                      "#FF6692",
                      "#B6E880",
                      "#FF97FF",
                      "#FECB52"
                    ],
                    "font": {
                      "color": "#2a3f5f"
                    },
                    "geo": {
                      "bgcolor": "white",
                      "lakecolor": "white",
                      "landcolor": "#E5ECF6",
                      "showlakes": true,
                      "showland": true,
                      "subunitcolor": "white"
                    },
                    "hoverlabel": {
                      "align": "left"
                    },
                    "hovermode": "closest",
                    "mapbox": {
                      "style": "light"
                    },
                    "paper_bgcolor": "white",
                    "plot_bgcolor": "#E5ECF6",
                    "polar": {
                      "angularaxis": {
                        "gridcolor": "white",
                        "linecolor": "white",
                        "ticks": ""
                      },
                      "bgcolor": "#E5ECF6",
                      "radialaxis": {
                        "gridcolor": "white",
                        "linecolor": "white",
                        "ticks": ""
                      }
                    },
                    "scene": {
                      "xaxis": {
                        "backgroundcolor": "#E5ECF6",
                        "gridcolor": "white",
                        "gridwidth": 2,
                        "linecolor": "white",
                        "showbackground": true,
                        "ticks": "",
                        "zerolinecolor": "white"
                      },
                      "yaxis": {
                        "backgroundcolor": "#E5ECF6",
                        "gridcolor": "white",
                        "gridwidth": 2,
                        "linecolor": "white",
                        "showbackground": true,
                        "ticks": "",
                        "zerolinecolor": "white"
                      },
                      "zaxis": {
                        "backgroundcolor": "#E5ECF6",
                        "gridcolor": "white",
                        "gridwidth": 2,
                        "linecolor": "white",
                        "showbackground": true,
                        "ticks": "",
                        "zerolinecolor": "white"
                      }
                    },
                    "shapedefaults": {
                      "line": {
                        "color": "#2a3f5f"
                      }
                    },
                    "ternary": {
                      "aaxis": {
                        "gridcolor": "white",
                        "linecolor": "white",
                        "ticks": ""
                      },
                      "baxis": {
                        "gridcolor": "white",
                        "linecolor": "white",
                        "ticks": ""
                      },
                      "bgcolor": "#E5ECF6",
                      "caxis": {
                        "gridcolor": "white",
                        "linecolor": "white",
                        "ticks": ""
                      }
                    },
                    "title": {
                      "x": 0.05
                    },
                    "xaxis": {
                      "automargin": true,
                      "gridcolor": "white",
                      "linecolor": "white",
                      "ticks": "",
                      "title": {
                        "standoff": 15
                      },
                      "zerolinecolor": "white",
                      "zerolinewidth": 2
                    },
                    "yaxis": {
                      "automargin": true,
                      "gridcolor": "white",
                      "linecolor": "white",
                      "ticks": "",
                      "title": {
                        "standoff": 15
                      },
                      "zerolinecolor": "white",
                      "zerolinewidth": 2
                    }
                  }
                },
                "title": {
                  "text": "Distribution of Bitrate and Latency Data"
                },
                "xaxis": {
                  "anchor": "y",
                  "domain": [
                    0,
                    0.45
                  ],
                  "title": {
                    "text": "Bitrate"
                  }
                },
                "xaxis2": {
                  "anchor": "y2",
                  "domain": [
                    0.55,
                    1
                  ],
                  "title": {
                    "text": "Latency"
                  }
                },
                "yaxis": {
                  "anchor": "x",
                  "domain": [
                    0,
                    1
                  ],
                  "title": {
                    "text": "Count"
                  }
                },
                "yaxis2": {
                  "anchor": "x2",
                  "domain": [
                    0,
                    1
                  ],
                  "title": {
                    "text": "Count"
                  }
                }
              }
            }
          },
          "metadata": {},
          "output_type": "display_data"
        },
        {
          "name": "stdout",
          "output_type": "stream",
          "text": [
            "Shapiro-Wilk: statistical value = 0.7010, p-value = 0.0000 for Bitrate\n",
            "Shapiro-Wilk: statistical value = 0.5886, p-value = 0.0000 for Latency\n"
          ]
        }
      ],
      "source": [
        "# plot distributions\n",
        "fig = make_subplots(rows=1, cols=2,\n",
        "                    subplot_titles=('Distribution of Bitrate-data', 'Distribution of Latency-data'))\n",
        "\n",
        "# bitrate\n",
        "fig.add_trace(\n",
        "    go.Histogram(\n",
        "        x=combined_df['Bitrate'],\n",
        "        nbinsx=100,\n",
        "        name='Bitrate',\n",
        "        marker=dict(line=dict(width=1, color='black')) # Apply your styling\n",
        "    ),\n",
        "    row=1, col=1\n",
        ")\n",
        "\n",
        "# latency\n",
        "fig.add_trace(\n",
        "    go.Histogram(\n",
        "        x=combined_df['Latency'],\n",
        "        nbinsx=100,  \n",
        "        name='Latency',\n",
        "        marker=dict(line=dict(width=1, color='black'))\n",
        "    ),\n",
        "    row=1, col=2\n",
        ")\n",
        "\n",
        "fig.update_layout(\n",
        "    title_text=\"Distribution of Bitrate and Latency Data\",\n",
        "    showlegend=False\n",
        ")\n",
        "\n",
        "fig.update_xaxes(title_text=\"Bitrate\", row=1, col=1)\n",
        "fig.update_xaxes(title_text=\"Latency\", row=1, col=2)\n",
        "\n",
        "fig.update_yaxes(title_text=\"Count\", row=1, col=1)\n",
        "fig.update_yaxes(title_text=\"Count\", row=1, col=2)\n",
        "\n",
        "fig.show()\n",
        "\n",
        "# calculate IQR\n",
        "Q1 = combined_df['Bitrate'].quantile(0.25)\n",
        "Q3 = combined_df['Bitrate'].quantile(0.75)\n",
        "IQR = Q3 - Q1\n",
        "lower_bound = Q1 - 1.5 * IQR\n",
        "upper_bound = Q3 + 1.5 * IQR\n",
        "\n",
        "# Shapiro-Wilk-Test\n",
        "stat, p_value = stats.shapiro(combined_df['Bitrate'].dropna())\n",
        "print(f'Shapiro-Wilk: statistical value = {stat:.4f}, p-value = {p_value:.4f} for Bitrate')\n",
        "\n",
        "stat, p_value = stats.shapiro(combined_df['Latency'].dropna())\n",
        "print(f'Shapiro-Wilk: statistical value = {stat:.4f}, p-value = {p_value:.4f} for Latency')"
      ]
    },
    {
      "cell_type": "markdown",
      "metadata": {},
      "source": [
        "Outlier Removal through z-score-method\n",
        "\n",
        "The z-score measures how many standard deviations a value differs from the mean of a dataset. A common rule for outlier detection is a threshold of _z-score>3_. We'll calculate this for bitrate and latency and as you can see in the next plot all values on the right side of the threshold are identified as outliers."
      ]
    },
    {
      "cell_type": "code",
      "execution_count": 44,
      "metadata": {},
      "outputs": [],
      "source": [
        "combined_df['z_score_bitrate'] = (combined_df['Bitrate'] - combined_df['Bitrate'].mean()) / combined_df['Bitrate'].std()\n",
        "combined_df['z_score_latency'] = (combined_df['Latency'] - combined_df['Latency'].mean()) / combined_df['Latency'].std()\n",
        "\n",
        "outliers_z_b = combined_df[np.abs(combined_df['z_score_bitrate']) > 3]\n",
        "outliers_z_l = combined_df[np.abs(combined_df['z_score_latency']) > 3]"
      ]
    },
    {
      "cell_type": "code",
      "execution_count": 41,
      "metadata": {},
      "outputs": [
        {
          "data": {
            "text/html": [
              "<div>\n",
              "<style scoped>\n",
              "    .dataframe tbody tr th:only-of-type {\n",
              "        vertical-align: middle;\n",
              "    }\n",
              "\n",
              "    .dataframe tbody tr th {\n",
              "        vertical-align: top;\n",
              "    }\n",
              "\n",
              "    .dataframe thead th {\n",
              "        text-align: right;\n",
              "    }\n",
              "</style>\n",
              "<table border=\"1\" class=\"dataframe\">\n",
              "  <thead>\n",
              "    <tr style=\"text-align: right;\">\n",
              "      <th></th>\n",
              "      <th>Unnamed: 0</th>\n",
              "      <th>Time</th>\n",
              "      <th>Latitude</th>\n",
              "      <th>Longitude</th>\n",
              "      <th>Bitrate</th>\n",
              "      <th>Latency</th>\n",
              "      <th>DISTANCE_CENTER</th>\n",
              "      <th>DISTANCE_AP_RUESTHALLE</th>\n",
              "      <th>DISTANCE_AP_GARAGE</th>\n",
              "      <th>z_score</th>\n",
              "      <th>z_score_bitrate</th>\n",
              "      <th>z_score_latency</th>\n",
              "    </tr>\n",
              "  </thead>\n",
              "  <tbody>\n",
              "    <tr>\n",
              "      <th>60</th>\n",
              "      <td>2</td>\n",
              "      <td>11:35:55</td>\n",
              "      <td>52.316230</td>\n",
              "      <td>10.560745</td>\n",
              "      <td>510.0</td>\n",
              "      <td>182.0</td>\n",
              "      <td>81.589517</td>\n",
              "      <td>46.878905</td>\n",
              "      <td>123.901565</td>\n",
              "      <td>9.883251</td>\n",
              "      <td>9.883251</td>\n",
              "      <td>0.54971</td>\n",
              "    </tr>\n",
              "    <tr>\n",
              "      <th>62</th>\n",
              "      <td>4</td>\n",
              "      <td>11:35:57</td>\n",
              "      <td>52.316238</td>\n",
              "      <td>10.560775</td>\n",
              "      <td>521.0</td>\n",
              "      <td>253.0</td>\n",
              "      <td>80.285808</td>\n",
              "      <td>46.167503</td>\n",
              "      <td>122.430535</td>\n",
              "      <td>10.118899</td>\n",
              "      <td>10.118899</td>\n",
              "      <td>1.05948</td>\n",
              "    </tr>\n",
              "  </tbody>\n",
              "</table>\n",
              "</div>"
            ],
            "text/plain": [
              "    Unnamed: 0      Time   Latitude  Longitude  Bitrate  Latency  \\\n",
              "60           2  11:35:55  52.316230  10.560745    510.0    182.0   \n",
              "62           4  11:35:57  52.316238  10.560775    521.0    253.0   \n",
              "\n",
              "    DISTANCE_CENTER  DISTANCE_AP_RUESTHALLE  DISTANCE_AP_GARAGE    z_score  \\\n",
              "60        81.589517               46.878905          123.901565   9.883251   \n",
              "62        80.285808               46.167503          122.430535  10.118899   \n",
              "\n",
              "    z_score_bitrate  z_score_latency  \n",
              "60         9.883251          0.54971  \n",
              "62        10.118899          1.05948  "
            ]
          },
          "execution_count": 41,
          "metadata": {},
          "output_type": "execute_result"
        }
      ],
      "source": [
        "outliers_z_b"
      ]
    },
    {
      "cell_type": "code",
      "execution_count": 35,
      "metadata": {},
      "outputs": [
        {
          "data": {
            "text/html": [
              "<div>\n",
              "<style scoped>\n",
              "    .dataframe tbody tr th:only-of-type {\n",
              "        vertical-align: middle;\n",
              "    }\n",
              "\n",
              "    .dataframe tbody tr th {\n",
              "        vertical-align: top;\n",
              "    }\n",
              "\n",
              "    .dataframe thead th {\n",
              "        text-align: right;\n",
              "    }\n",
              "</style>\n",
              "<table border=\"1\" class=\"dataframe\">\n",
              "  <thead>\n",
              "    <tr style=\"text-align: right;\">\n",
              "      <th></th>\n",
              "      <th>Unnamed: 0</th>\n",
              "      <th>Time</th>\n",
              "      <th>Latitude</th>\n",
              "      <th>Longitude</th>\n",
              "      <th>Bitrate</th>\n",
              "      <th>Latency</th>\n",
              "      <th>DISTANCE_CENTER</th>\n",
              "      <th>DISTANCE_AP_RUESTHALLE</th>\n",
              "      <th>DISTANCE_AP_GARAGE</th>\n",
              "      <th>z_score</th>\n",
              "      <th>z_score_bitrate</th>\n",
              "      <th>z_score_latency</th>\n",
              "    </tr>\n",
              "  </thead>\n",
              "  <tbody>\n",
              "    <tr>\n",
              "      <th>59</th>\n",
              "      <td>1</td>\n",
              "      <td>11:35:54</td>\n",
              "      <td>52.316229</td>\n",
              "      <td>10.560738</td>\n",
              "      <td>0.0</td>\n",
              "      <td>754.0</td>\n",
              "      <td>81.947953</td>\n",
              "      <td>47.140851</td>\n",
              "      <td>124.284874</td>\n",
              "      <td>-1.042272</td>\n",
              "      <td>-1.042272</td>\n",
              "      <td>4.656589</td>\n",
              "    </tr>\n",
              "    <tr>\n",
              "      <th>164</th>\n",
              "      <td>28</td>\n",
              "      <td>11:40:33.500000</td>\n",
              "      <td>52.315911</td>\n",
              "      <td>10.560682</td>\n",
              "      <td>0.0</td>\n",
              "      <td>833.0</td>\n",
              "      <td>75.890957</td>\n",
              "      <td>37.326354</td>\n",
              "      <td>118.707602</td>\n",
              "      <td>-1.042272</td>\n",
              "      <td>-1.042272</td>\n",
              "      <td>5.223798</td>\n",
              "    </tr>\n",
              "    <tr>\n",
              "      <th>245</th>\n",
              "      <td>50</td>\n",
              "      <td>11:35:30</td>\n",
              "      <td>52.316008</td>\n",
              "      <td>10.560837</td>\n",
              "      <td>0.0</td>\n",
              "      <td>1570.0</td>\n",
              "      <td>66.827893</td>\n",
              "      <td>28.036789</td>\n",
              "      <td>110.126673</td>\n",
              "      <td>-1.042272</td>\n",
              "      <td>-1.042272</td>\n",
              "      <td>10.515353</td>\n",
              "    </tr>\n",
              "    <tr>\n",
              "      <th>246</th>\n",
              "      <td>51</td>\n",
              "      <td>11:35:31</td>\n",
              "      <td>52.316017</td>\n",
              "      <td>10.560805</td>\n",
              "      <td>10.5</td>\n",
              "      <td>547.0</td>\n",
              "      <td>69.193007</td>\n",
              "      <td>30.439653</td>\n",
              "      <td>112.494562</td>\n",
              "      <td>-0.817335</td>\n",
              "      <td>-0.817335</td>\n",
              "      <td>3.170358</td>\n",
              "    </tr>\n",
              "    <tr>\n",
              "      <th>343</th>\n",
              "      <td>37</td>\n",
              "      <td>11:37:54.248000</td>\n",
              "      <td>52.315712</td>\n",
              "      <td>10.561602</td>\n",
              "      <td>0.0</td>\n",
              "      <td>544.0</td>\n",
              "      <td>22.399245</td>\n",
              "      <td>35.217764</td>\n",
              "      <td>55.648914</td>\n",
              "      <td>-1.042272</td>\n",
              "      <td>-1.042272</td>\n",
              "      <td>3.148819</td>\n",
              "    </tr>\n",
              "  </tbody>\n",
              "</table>\n",
              "</div>"
            ],
            "text/plain": [
              "     Unnamed: 0             Time   Latitude  Longitude  Bitrate  Latency  \\\n",
              "59            1         11:35:54  52.316229  10.560738      0.0    754.0   \n",
              "164          28  11:40:33.500000  52.315911  10.560682      0.0    833.0   \n",
              "245          50         11:35:30  52.316008  10.560837      0.0   1570.0   \n",
              "246          51         11:35:31  52.316017  10.560805     10.5    547.0   \n",
              "343          37  11:37:54.248000  52.315712  10.561602      0.0    544.0   \n",
              "\n",
              "     DISTANCE_CENTER  DISTANCE_AP_RUESTHALLE  DISTANCE_AP_GARAGE   z_score  \\\n",
              "59         81.947953               47.140851          124.284874 -1.042272   \n",
              "164        75.890957               37.326354          118.707602 -1.042272   \n",
              "245        66.827893               28.036789          110.126673 -1.042272   \n",
              "246        69.193007               30.439653          112.494562 -0.817335   \n",
              "343        22.399245               35.217764           55.648914 -1.042272   \n",
              "\n",
              "     z_score_bitrate  z_score_latency  \n",
              "59         -1.042272         4.656589  \n",
              "164        -1.042272         5.223798  \n",
              "245        -1.042272        10.515353  \n",
              "246        -0.817335         3.170358  \n",
              "343        -1.042272         3.148819  "
            ]
          },
          "execution_count": 35,
          "metadata": {},
          "output_type": "execute_result"
        }
      ],
      "source": [
        "outliers_z_l"
      ]
    },
    {
      "cell_type": "code",
      "execution_count": 47,
      "metadata": {},
      "outputs": [
        {
          "name": "stderr",
          "output_type": "stream",
          "text": [
            "<>:73: SyntaxWarning:\n",
            "\n",
            "invalid escape sequence '\\m'\n",
            "\n",
            "<>:73: SyntaxWarning:\n",
            "\n",
            "invalid escape sequence '\\m'\n",
            "\n",
            "/tmp/ipykernel_81305/3169796520.py:73: SyntaxWarning:\n",
            "\n",
            "invalid escape sequence '\\m'\n",
            "\n",
            "/tmp/ipykernel_81305/3169796520.py:73: SyntaxWarning:\n",
            "\n",
            "invalid escape sequence '\\m'\n",
            "\n"
          ]
        },
        {
          "ename": "NameError",
          "evalue": "A name conflict was encountered for argument 'y'. A column or index with name 'y' is ambiguous.",
          "output_type": "error",
          "traceback": [
            "\u001b[0;31m---------------------------------------------------------------------------\u001b[0m",
            "\u001b[0;31mNameError\u001b[0m                                 Traceback (most recent call last)",
            "Cell \u001b[0;32mIn[47], line 85\u001b[0m\n\u001b[1;32m     81\u001b[0m     fig\u001b[38;5;241m.\u001b[39mupdate_yaxes(showticklabels\u001b[38;5;241m=\u001b[39m\u001b[38;5;28;01mFalse\u001b[39;00m, row\u001b[38;5;241m=\u001b[39m\u001b[38;5;241m2\u001b[39m, col\u001b[38;5;241m=\u001b[39m\u001b[38;5;241m1\u001b[39m, title_text\u001b[38;5;241m=\u001b[39m\u001b[38;5;124m'\u001b[39m\u001b[38;5;124mData Points\u001b[39m\u001b[38;5;124m'\u001b[39m)\n\u001b[1;32m     82\u001b[0m     fig\u001b[38;5;241m.\u001b[39mshow()\n\u001b[0;32m---> 85\u001b[0m \u001b[43mplot_distribution_with_outliers\u001b[49m\u001b[43m(\u001b[49m\n\u001b[1;32m     86\u001b[0m \u001b[43m    \u001b[49m\u001b[43mcombined_df\u001b[49m\u001b[43m,\u001b[49m\u001b[43m \u001b[49m\n\u001b[1;32m     87\u001b[0m \u001b[43m    \u001b[49m\u001b[43mdata_col\u001b[49m\u001b[38;5;241;43m=\u001b[39;49m\u001b[38;5;124;43m'\u001b[39;49m\u001b[38;5;124;43mBitrate\u001b[39;49m\u001b[38;5;124;43m'\u001b[39;49m\u001b[43m,\u001b[49m\u001b[43m \u001b[49m\n\u001b[1;32m     88\u001b[0m \u001b[43m    \u001b[49m\u001b[43mz_col\u001b[49m\u001b[38;5;241;43m=\u001b[39;49m\u001b[38;5;124;43m'\u001b[39;49m\u001b[38;5;124;43mz_score_bitrate\u001b[39;49m\u001b[38;5;124;43m'\u001b[39;49m\u001b[43m,\u001b[49m\u001b[43m \u001b[49m\n\u001b[1;32m     89\u001b[0m \u001b[43m    \u001b[49m\u001b[43mtitle\u001b[49m\u001b[38;5;241;43m=\u001b[39;49m\u001b[38;5;124;43m'\u001b[39;49m\u001b[38;5;124;43mBitrate\u001b[39;49m\u001b[38;5;124;43m'\u001b[39;49m\n\u001b[1;32m     90\u001b[0m \u001b[43m)\u001b[49m\n\u001b[1;32m     92\u001b[0m plot_distribution_with_outliers(\n\u001b[1;32m     93\u001b[0m     combined_df, \n\u001b[1;32m     94\u001b[0m     data_col\u001b[38;5;241m=\u001b[39m\u001b[38;5;124m'\u001b[39m\u001b[38;5;124mLatency\u001b[39m\u001b[38;5;124m'\u001b[39m, \n\u001b[1;32m     95\u001b[0m     z_col\u001b[38;5;241m=\u001b[39m\u001b[38;5;124m'\u001b[39m\u001b[38;5;124mz_score_latency\u001b[39m\u001b[38;5;124m'\u001b[39m, \n\u001b[1;32m     96\u001b[0m     title\u001b[38;5;241m=\u001b[39m\u001b[38;5;124m'\u001b[39m\u001b[38;5;124mLatency\u001b[39m\u001b[38;5;124m'\u001b[39m\n\u001b[1;32m     97\u001b[0m )\n",
            "Cell \u001b[0;32mIn[47], line 54\u001b[0m, in \u001b[0;36mplot_distribution_with_outliers\u001b[0;34m(df, data_col, z_col, title)\u001b[0m\n\u001b[1;32m     43\u001b[0m \u001b[38;5;28;01mfor\u001b[39;00m threshold \u001b[38;5;129;01min\u001b[39;00m z_thresholds:\n\u001b[1;32m     44\u001b[0m     fig\u001b[38;5;241m.\u001b[39madd_vline(\n\u001b[1;32m     45\u001b[0m         x\u001b[38;5;241m=\u001b[39mthreshold[\u001b[38;5;124m'\u001b[39m\u001b[38;5;124mx\u001b[39m\u001b[38;5;124m'\u001b[39m], \n\u001b[1;32m     46\u001b[0m         line_width\u001b[38;5;241m=\u001b[39m\u001b[38;5;241m2\u001b[39m, \n\u001b[0;32m   (...)\u001b[0m\n\u001b[1;32m     51\u001b[0m         row\u001b[38;5;241m=\u001b[39m\u001b[38;5;241m1\u001b[39m, col\u001b[38;5;241m=\u001b[39m\u001b[38;5;241m1\u001b[39m\n\u001b[1;32m     52\u001b[0m     )\n\u001b[0;32m---> 54\u001b[0m scatter_fig \u001b[38;5;241m=\u001b[39m \u001b[43mpx\u001b[49m\u001b[38;5;241;43m.\u001b[39;49m\u001b[43mscatter\u001b[49m\u001b[43m(\u001b[49m\n\u001b[1;32m     55\u001b[0m \u001b[43m    \u001b[49m\u001b[43mdf\u001b[49m\u001b[43m,\u001b[49m\u001b[43m \u001b[49m\n\u001b[1;32m     56\u001b[0m \u001b[43m    \u001b[49m\u001b[43mx\u001b[49m\u001b[38;5;241;43m=\u001b[39;49m\u001b[43mdata_col\u001b[49m\u001b[43m,\u001b[49m\u001b[43m \u001b[49m\n\u001b[1;32m     57\u001b[0m \u001b[43m    \u001b[49m\u001b[43my\u001b[49m\u001b[38;5;241;43m=\u001b[39;49m\u001b[43m[\u001b[49m\u001b[38;5;241;43m0\u001b[39;49m\u001b[43m]\u001b[49m\u001b[43m \u001b[49m\u001b[38;5;241;43m*\u001b[39;49m\u001b[43m \u001b[49m\u001b[38;5;28;43mlen\u001b[39;49m\u001b[43m(\u001b[49m\u001b[43mdf\u001b[49m\u001b[43m)\u001b[49m\u001b[43m,\u001b[49m\u001b[43m \u001b[49m\u001b[38;5;66;43;03m# All points on the same vertical line\u001b[39;49;00m\n\u001b[1;32m     58\u001b[0m \u001b[43m    \u001b[49m\u001b[43mcolor\u001b[49m\u001b[38;5;241;43m=\u001b[39;49m\u001b[43moutlier_flag_col\u001b[49m\u001b[43m,\u001b[49m\n\u001b[1;32m     59\u001b[0m \u001b[43m    \u001b[49m\u001b[43mcolor_discrete_map\u001b[49m\u001b[38;5;241;43m=\u001b[39;49m\u001b[43m{\u001b[49m\n\u001b[1;32m     60\u001b[0m \u001b[43m        \u001b[49m\u001b[38;5;124;43m'\u001b[39;49m\u001b[38;5;124;43mNormal\u001b[39;49m\u001b[38;5;124;43m'\u001b[39;49m\u001b[43m:\u001b[49m\u001b[43m \u001b[49m\u001b[38;5;124;43m'\u001b[39;49m\u001b[38;5;124;43m#4C72B0\u001b[39;49m\u001b[38;5;124;43m'\u001b[39;49m\u001b[43m,\u001b[49m\n\u001b[1;32m     61\u001b[0m \u001b[43m        \u001b[49m\u001b[38;5;124;43m'\u001b[39;49m\u001b[38;5;124;43mOutlier (>|3σ|)\u001b[39;49m\u001b[38;5;124;43m'\u001b[39;49m\u001b[43m:\u001b[49m\u001b[43m \u001b[49m\u001b[38;5;124;43m'\u001b[39;49m\u001b[38;5;124;43m#DC3912\u001b[39;49m\u001b[38;5;124;43m'\u001b[39;49m\n\u001b[1;32m     62\u001b[0m \u001b[43m    \u001b[49m\u001b[43m}\u001b[49m\u001b[43m,\u001b[49m\n\u001b[1;32m     63\u001b[0m \u001b[43m    \u001b[49m\u001b[43mhover_data\u001b[49m\u001b[38;5;241;43m=\u001b[39;49m\u001b[43m{\u001b[49m\u001b[43mdata_col\u001b[49m\u001b[43m:\u001b[49m\u001b[43m \u001b[49m\u001b[38;5;124;43m'\u001b[39;49m\u001b[38;5;124;43m:.4f\u001b[39;49m\u001b[38;5;124;43m'\u001b[39;49m\u001b[43m,\u001b[49m\u001b[43m \u001b[49m\u001b[43mz_col\u001b[49m\u001b[43m:\u001b[49m\u001b[43m \u001b[49m\u001b[38;5;124;43m'\u001b[39;49m\u001b[38;5;124;43m:.4f\u001b[39;49m\u001b[38;5;124;43m'\u001b[39;49m\u001b[43m,\u001b[49m\u001b[43m \u001b[49m\u001b[38;5;124;43m'\u001b[39;49m\u001b[38;5;124;43my\u001b[39;49m\u001b[38;5;124;43m'\u001b[39;49m\u001b[43m:\u001b[49m\u001b[43m \u001b[49m\u001b[38;5;28;43;01mFalse\u001b[39;49;00m\u001b[43m}\u001b[49m\n\u001b[1;32m     64\u001b[0m \u001b[43m\u001b[49m\u001b[43m)\u001b[49m\n\u001b[1;32m     66\u001b[0m \u001b[38;5;28;01mfor\u001b[39;00m trace \u001b[38;5;129;01min\u001b[39;00m scatter_fig\u001b[38;5;241m.\u001b[39mdata:\n\u001b[1;32m     67\u001b[0m     \u001b[38;5;28;01mif\u001b[39;00m trace\u001b[38;5;241m.\u001b[39mtype \u001b[38;5;241m==\u001b[39m \u001b[38;5;124m'\u001b[39m\u001b[38;5;124mscatter\u001b[39m\u001b[38;5;124m'\u001b[39m:\n",
            "File \u001b[0;32m~/.cache/pypoetry/virtualenvs/wifi-mesh-bandwith-evaluation-ZZPij1Nn-py3.12/lib/python3.12/site-packages/plotly/express/_chart_types.py:69\u001b[0m, in \u001b[0;36mscatter\u001b[0;34m(data_frame, x, y, color, symbol, size, hover_name, hover_data, custom_data, text, facet_row, facet_col, facet_col_wrap, facet_row_spacing, facet_col_spacing, error_x, error_x_minus, error_y, error_y_minus, animation_frame, animation_group, category_orders, labels, orientation, color_discrete_sequence, color_discrete_map, color_continuous_scale, range_color, color_continuous_midpoint, symbol_sequence, symbol_map, opacity, size_max, marginal_x, marginal_y, trendline, trendline_options, trendline_color_override, trendline_scope, log_x, log_y, range_x, range_y, render_mode, title, subtitle, template, width, height)\u001b[0m\n\u001b[1;32m     14\u001b[0m \u001b[38;5;28;01mdef\u001b[39;00m \u001b[38;5;21mscatter\u001b[39m(\n\u001b[1;32m     15\u001b[0m     data_frame\u001b[38;5;241m=\u001b[39m\u001b[38;5;28;01mNone\u001b[39;00m,\n\u001b[1;32m     16\u001b[0m     x\u001b[38;5;241m=\u001b[39m\u001b[38;5;28;01mNone\u001b[39;00m,\n\u001b[0;32m   (...)\u001b[0m\n\u001b[1;32m     63\u001b[0m     height\u001b[38;5;241m=\u001b[39m\u001b[38;5;28;01mNone\u001b[39;00m,\n\u001b[1;32m     64\u001b[0m ) \u001b[38;5;241m-\u001b[39m\u001b[38;5;241m>\u001b[39m go\u001b[38;5;241m.\u001b[39mFigure:\n\u001b[1;32m     65\u001b[0m \u001b[38;5;250m    \u001b[39m\u001b[38;5;124;03m\"\"\"\u001b[39;00m\n\u001b[1;32m     66\u001b[0m \u001b[38;5;124;03m    In a scatter plot, each row of `data_frame` is represented by a symbol\u001b[39;00m\n\u001b[1;32m     67\u001b[0m \u001b[38;5;124;03m    mark in 2D space.\u001b[39;00m\n\u001b[1;32m     68\u001b[0m \u001b[38;5;124;03m    \"\"\"\u001b[39;00m\n\u001b[0;32m---> 69\u001b[0m     \u001b[38;5;28;01mreturn\u001b[39;00m \u001b[43mmake_figure\u001b[49m\u001b[43m(\u001b[49m\u001b[43margs\u001b[49m\u001b[38;5;241;43m=\u001b[39;49m\u001b[38;5;28;43mlocals\u001b[39;49m\u001b[43m(\u001b[49m\u001b[43m)\u001b[49m\u001b[43m,\u001b[49m\u001b[43m \u001b[49m\u001b[43mconstructor\u001b[49m\u001b[38;5;241;43m=\u001b[39;49m\u001b[43mgo\u001b[49m\u001b[38;5;241;43m.\u001b[39;49m\u001b[43mScatter\u001b[49m\u001b[43m)\u001b[49m\n",
            "File \u001b[0;32m~/.cache/pypoetry/virtualenvs/wifi-mesh-bandwith-evaluation-ZZPij1Nn-py3.12/lib/python3.12/site-packages/plotly/express/_core.py:2491\u001b[0m, in \u001b[0;36mmake_figure\u001b[0;34m(args, constructor, trace_patch, layout_patch)\u001b[0m\n\u001b[1;32m   2488\u001b[0m layout_patch \u001b[38;5;241m=\u001b[39m layout_patch \u001b[38;5;129;01mor\u001b[39;00m {}\n\u001b[1;32m   2489\u001b[0m apply_default_cascade(args)\n\u001b[0;32m-> 2491\u001b[0m args \u001b[38;5;241m=\u001b[39m \u001b[43mbuild_dataframe\u001b[49m\u001b[43m(\u001b[49m\u001b[43margs\u001b[49m\u001b[43m,\u001b[49m\u001b[43m \u001b[49m\u001b[43mconstructor\u001b[49m\u001b[43m)\u001b[49m\n\u001b[1;32m   2492\u001b[0m \u001b[38;5;28;01mif\u001b[39;00m constructor \u001b[38;5;129;01min\u001b[39;00m [go\u001b[38;5;241m.\u001b[39mTreemap, go\u001b[38;5;241m.\u001b[39mSunburst, go\u001b[38;5;241m.\u001b[39mIcicle] \u001b[38;5;129;01mand\u001b[39;00m args[\u001b[38;5;124m\"\u001b[39m\u001b[38;5;124mpath\u001b[39m\u001b[38;5;124m\"\u001b[39m] \u001b[38;5;129;01mis\u001b[39;00m \u001b[38;5;129;01mnot\u001b[39;00m \u001b[38;5;28;01mNone\u001b[39;00m:\n\u001b[1;32m   2493\u001b[0m     args \u001b[38;5;241m=\u001b[39m process_dataframe_hierarchy(args)\n",
            "File \u001b[0;32m~/.cache/pypoetry/virtualenvs/wifi-mesh-bandwith-evaluation-ZZPij1Nn-py3.12/lib/python3.12/site-packages/plotly/express/_core.py:1737\u001b[0m, in \u001b[0;36mbuild_dataframe\u001b[0;34m(args, constructor)\u001b[0m\n\u001b[1;32m   1734\u001b[0m     args[\u001b[38;5;124m\"\u001b[39m\u001b[38;5;124mcolor\u001b[39m\u001b[38;5;124m\"\u001b[39m] \u001b[38;5;241m=\u001b[39m \u001b[38;5;28;01mNone\u001b[39;00m\n\u001b[1;32m   1735\u001b[0m \u001b[38;5;66;03m# now that things have been prepped, we do the systematic rewriting of `args`\u001b[39;00m\n\u001b[0;32m-> 1737\u001b[0m df_output, wide_id_vars \u001b[38;5;241m=\u001b[39m \u001b[43mprocess_args_into_dataframe\u001b[49m\u001b[43m(\u001b[49m\n\u001b[1;32m   1738\u001b[0m \u001b[43m    \u001b[49m\u001b[43margs\u001b[49m\u001b[43m,\u001b[49m\n\u001b[1;32m   1739\u001b[0m \u001b[43m    \u001b[49m\u001b[43mwide_mode\u001b[49m\u001b[43m,\u001b[49m\n\u001b[1;32m   1740\u001b[0m \u001b[43m    \u001b[49m\u001b[43mvar_name\u001b[49m\u001b[43m,\u001b[49m\n\u001b[1;32m   1741\u001b[0m \u001b[43m    \u001b[49m\u001b[43mvalue_name\u001b[49m\u001b[43m,\u001b[49m\n\u001b[1;32m   1742\u001b[0m \u001b[43m    \u001b[49m\u001b[43mis_pd_like\u001b[49m\u001b[43m,\u001b[49m\n\u001b[1;32m   1743\u001b[0m \u001b[43m    \u001b[49m\u001b[43mnative_namespace\u001b[49m\u001b[43m,\u001b[49m\n\u001b[1;32m   1744\u001b[0m \u001b[43m\u001b[49m\u001b[43m)\u001b[49m\n\u001b[1;32m   1745\u001b[0m df_output: nw\u001b[38;5;241m.\u001b[39mDataFrame\n\u001b[1;32m   1746\u001b[0m \u001b[38;5;66;03m# now that `df_output` exists and `args` contains only references, we complete\u001b[39;00m\n\u001b[1;32m   1747\u001b[0m \u001b[38;5;66;03m# the special-case and wide-mode handling by further rewriting args and/or mutating\u001b[39;00m\n\u001b[1;32m   1748\u001b[0m \u001b[38;5;66;03m# df_output\u001b[39;00m\n",
            "File \u001b[0;32m~/.cache/pypoetry/virtualenvs/wifi-mesh-bandwith-evaluation-ZZPij1Nn-py3.12/lib/python3.12/site-packages/plotly/express/_core.py:1380\u001b[0m, in \u001b[0;36mprocess_args_into_dataframe\u001b[0;34m(args, wide_mode, var_name, value_name, is_pd_like, native_namespace)\u001b[0m\n\u001b[1;32m   1378\u001b[0m             col_name \u001b[38;5;241m=\u001b[39m argument\u001b[38;5;241m.\u001b[39mname\n\u001b[1;32m   1379\u001b[0m \u001b[38;5;28;01mif\u001b[39;00m col_name \u001b[38;5;129;01mis\u001b[39;00m \u001b[38;5;28;01mNone\u001b[39;00m:  \u001b[38;5;66;03m# numpy array, list...\u001b[39;00m\n\u001b[0;32m-> 1380\u001b[0m     col_name \u001b[38;5;241m=\u001b[39m \u001b[43m_check_name_not_reserved\u001b[49m\u001b[43m(\u001b[49m\u001b[43mfield\u001b[49m\u001b[43m,\u001b[49m\u001b[43m \u001b[49m\u001b[43mreserved_names\u001b[49m\u001b[43m)\u001b[49m\n\u001b[1;32m   1382\u001b[0m \u001b[38;5;28;01mif\u001b[39;00m length \u001b[38;5;129;01mand\u001b[39;00m (len_arg \u001b[38;5;241m:=\u001b[39m \u001b[38;5;28mlen\u001b[39m(argument)) \u001b[38;5;241m!=\u001b[39m length:\n\u001b[1;32m   1383\u001b[0m     \u001b[38;5;28;01mraise\u001b[39;00m \u001b[38;5;167;01mValueError\u001b[39;00m(\n\u001b[1;32m   1384\u001b[0m         \u001b[38;5;124m\"\u001b[39m\u001b[38;5;124mAll arguments should have the same length. \u001b[39m\u001b[38;5;124m\"\u001b[39m\n\u001b[1;32m   1385\u001b[0m         \u001b[38;5;124m\"\u001b[39m\u001b[38;5;124mThe length of argument `\u001b[39m\u001b[38;5;132;01m%s\u001b[39;00m\u001b[38;5;124m` is \u001b[39m\u001b[38;5;132;01m%d\u001b[39;00m\u001b[38;5;124m, whereas the \u001b[39m\u001b[38;5;124m\"\u001b[39m\n\u001b[1;32m   1386\u001b[0m         \u001b[38;5;124m\"\u001b[39m\u001b[38;5;124mlength of previously-processed arguments \u001b[39m\u001b[38;5;132;01m%s\u001b[39;00m\u001b[38;5;124m is \u001b[39m\u001b[38;5;132;01m%d\u001b[39;00m\u001b[38;5;124m\"\u001b[39m\n\u001b[1;32m   1387\u001b[0m         \u001b[38;5;241m%\u001b[39m (field, len_arg, \u001b[38;5;28mstr\u001b[39m(\u001b[38;5;28mlist\u001b[39m(df_output\u001b[38;5;241m.\u001b[39mkeys())), length)\n\u001b[1;32m   1388\u001b[0m     )\n",
            "File \u001b[0;32m~/.cache/pypoetry/virtualenvs/wifi-mesh-bandwith-evaluation-ZZPij1Nn-py3.12/lib/python3.12/site-packages/plotly/express/_core.py:1086\u001b[0m, in \u001b[0;36m_check_name_not_reserved\u001b[0;34m(field_name, reserved_names)\u001b[0m\n\u001b[1;32m   1084\u001b[0m     \u001b[38;5;28;01mreturn\u001b[39;00m field_name\n\u001b[1;32m   1085\u001b[0m \u001b[38;5;28;01melse\u001b[39;00m:\n\u001b[0;32m-> 1086\u001b[0m     \u001b[38;5;28;01mraise\u001b[39;00m \u001b[38;5;167;01mNameError\u001b[39;00m(\n\u001b[1;32m   1087\u001b[0m         \u001b[38;5;124m\"\u001b[39m\u001b[38;5;124mA name conflict was encountered for argument \u001b[39m\u001b[38;5;124m'\u001b[39m\u001b[38;5;132;01m%s\u001b[39;00m\u001b[38;5;124m'\u001b[39m\u001b[38;5;124m. \u001b[39m\u001b[38;5;124m\"\u001b[39m\n\u001b[1;32m   1088\u001b[0m         \u001b[38;5;124m\"\u001b[39m\u001b[38;5;124mA column or index with name \u001b[39m\u001b[38;5;124m'\u001b[39m\u001b[38;5;132;01m%s\u001b[39;00m\u001b[38;5;124m'\u001b[39m\u001b[38;5;124m is ambiguous.\u001b[39m\u001b[38;5;124m\"\u001b[39m \u001b[38;5;241m%\u001b[39m (field_name, field_name)\n\u001b[1;32m   1089\u001b[0m     )\n",
            "\u001b[0;31mNameError\u001b[0m: A name conflict was encountered for argument 'y'. A column or index with name 'y' is ambiguous."
          ]
        }
      ],
      "source": [
        "# outlier flags\n",
        "combined_df['Outlier_Bitrate'] = np.where(np.abs(combined_df['z_score_bitrate']) > 3, 'Outlier (>|3σ|)', 'Normal')\n",
        "combined_df['Outlier_Latency'] = np.where(np.abs(combined_df['z_score_latency']) > 3, 'Outlier (>|3σ|)', 'Normal')\n",
        "\n",
        "\n",
        "# plotting\n",
        "def plot_distribution_with_outliers(df, data_col, z_col, title):\n",
        "    mean_val = df[data_col].mean()\n",
        "    std_val = df[data_col].std()\n",
        "    \n",
        "    outlier_flag_col = f'Outlier_{data_col}' \n",
        "\n",
        "    fig = make_subplots(\n",
        "        rows=2, cols=1, \n",
        "        shared_xaxes=True, \n",
        "        vertical_spacing=0.05,\n",
        "        row_heights=[0.6, 0.4]\n",
        "    )\n",
        "\n",
        "    hist_fig = px.histogram(\n",
        "        df, \n",
        "        x=data_col, \n",
        "        color=outlier_flag_col,\n",
        "        color_discrete_map={\n",
        "            'Normal': '#4C72B0',        # Normal/blue\n",
        "            'Outlier (>|3σ|)': '#DC3912' # Outlier/red\n",
        "        },\n",
        "        marginal=\"box\", # Adds a box plot on top\n",
        "        nbins=50\n",
        "    )\n",
        "\n",
        "    # Add histogram traces to the main figure\n",
        "    for trace in hist_fig.data:\n",
        "        if trace.type == 'histogram':\n",
        "            fig.add_trace(trace, row=1, col=1)\n",
        "\n",
        "    # Add vertical lines for the Z-score thresholds (Mean ± 3*StdDev)\n",
        "    z_thresholds = [\n",
        "        {'x': mean_val - 3 * std_val, 'text': 'Z=-3σ', 'pos': 'top left'},\n",
        "        {'x': mean_val + 3 * std_val, 'text': 'Z=+3σ', 'pos': 'top right'}\n",
        "    ]\n",
        "    \n",
        "    for threshold in z_thresholds:\n",
        "        fig.add_vline(\n",
        "            x=threshold['x'], \n",
        "            line_width=2, \n",
        "            line_dash=\"dash\", \n",
        "            line_color=\"gray\",\n",
        "            annotation_text=threshold['text'],\n",
        "            annotation_position=threshold['pos'],\n",
        "            row=1, col=1\n",
        "        )\n",
        "        \n",
        "    scatter_fig = px.scatter(\n",
        "        df, \n",
        "        x=data_col, \n",
        "        y=[0] * len(df), # All points on the same vertical line\n",
        "        color=outlier_flag_col,\n",
        "        color_discrete_map={\n",
        "            'Normal': '#4C72B0',\n",
        "            'Outlier (>|3σ|)': '#DC3912'\n",
        "        },\n",
        "        hover_data={data_col: ':.4f', z_col: ':.4f', 'y': False}\n",
        "    )\n",
        "    \n",
        "    for trace in scatter_fig.data:\n",
        "        if trace.type == 'scatter':\n",
        "            fig.add_trace(trace, row=2, col=1)\n",
        "\n",
        "\n",
        "    fig.update_layout(\n",
        "        height=700, \n",
        "        title_text=f'**{title} Distribution with Z-Score Outliers ($|\\mathbf{Z}| > 3$)**',\n",
        "        bargap=0.05, # Space between histogram bars\n",
        "        showlegend=True\n",
        "    )\n",
        "    \n",
        "    # Update axes titles and properties\n",
        "    fig.update_xaxes(title_text=data_col, row=2, col=1)\n",
        "    fig.update_yaxes(title_text='Count', row=1, col=1)\n",
        "    fig.update_yaxes(showticklabels=False, row=2, col=1, title_text='Data Points')\n",
        "    fig.show()\n",
        "\n",
        "\n",
        "plot_distribution_with_outliers(\n",
        "    combined_df, \n",
        "    data_col='Bitrate', \n",
        "    z_col='z_score_bitrate', \n",
        "    title='Bitrate'\n",
        ")\n",
        "\n",
        "plot_distribution_with_outliers(\n",
        "    combined_df, \n",
        "    data_col='Latency', \n",
        "    z_col='z_score_latency', \n",
        "    title='Latency'\n",
        ")"
      ]
    },
    {
      "cell_type": "code",
      "execution_count": null,
      "metadata": {
        "id": "f4Z5b5XEsOh9"
      },
      "outputs": [],
      "source": [
        "# Outlier removal\n",
        "def remove_outliers_iqr(df, column):\n",
        "    Q1 = df[column].quantile(0.25)\n",
        "    Q3 = df[column].quantile(0.75)\n",
        "    IQR = Q3 - Q1\n",
        "    lower_bound = Q1 - 1.5 * IQR\n",
        "    upper_bound = Q3 + 1.5 * IQR\n",
        "    return df[(df[column] >= lower_bound) & (df[column] <= upper_bound)]\n",
        "\n",
        "combined_df_filtered = combined_df.copy()\n",
        "combined_df_filtered = remove_outliers_iqr(combined_df_filtered, 'Bitrate')\n",
        "combined_df_filtered = remove_outliers_iqr(combined_df_filtered, 'DISTANCE_CENTER')"
      ]
    },
    {
      "cell_type": "code",
      "execution_count": 6,
      "metadata": {
        "colab": {
          "base_uri": "https://localhost:8080/",
          "height": 542
        },
        "id": "2AJnVgDy6I4J",
        "outputId": "c319ecbd-9d3d-4312-b85e-afff072f4ad9"
      },
      "outputs": [
        {
          "data": {
            "application/vnd.plotly.v1+json": {
              "config": {
                "plotlyServerURL": "https://plot.ly"
              },
              "data": [
                {
                  "hovertemplate": "Distance to Center [m]=%{x}<br>Bitrate [MBit/s]=%{y}<extra></extra>",
                  "legendgroup": "",
                  "marker": {
                    "color": "#636efa",
                    "symbol": "circle"
                  },
                  "mode": "markers",
                  "name": "",
                  "orientation": "v",
                  "showlegend": false,
                  "type": "scatter",
                  "x": {
                    "bdata": "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",
                    "dtype": "f8"
                  },
                  "xaxis": "x",
                  "y": {
                    "bdata": "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",
                    "dtype": "f8"
                  },
                  "yaxis": "y"
                },
                {
                  "hovertemplate": "<b>LOWESS trendline</b><br><br>Distance to Center [m]=%{x}<br>Bitrate [MBit/s]=%{y} <b>(trend)</b><extra></extra>",
                  "legendgroup": "",
                  "marker": {
                    "color": "#636efa",
                    "symbol": "circle"
                  },
                  "mode": "lines",
                  "name": "",
                  "showlegend": false,
                  "type": "scatter",
                  "x": {
                    "bdata": "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",
                    "dtype": "f8"
                  },
                  "xaxis": "x",
                  "y": {
                    "bdata": "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",
                    "dtype": "f8"
                  },
                  "yaxis": "y"
                },
                {
                  "colorbar": {
                    "title": {
                      "text": "Density"
                    }
                  },
                  "colorscale": [
                    [
                      0,
                      "#440154"
                    ],
                    [
                      0.1111111111111111,
                      "#482878"
                    ],
                    [
                      0.2222222222222222,
                      "#3e4989"
                    ],
                    [
                      0.3333333333333333,
                      "#31688e"
                    ],
                    [
                      0.4444444444444444,
                      "#26828e"
                    ],
                    [
                      0.5555555555555556,
                      "#1f9e89"
                    ],
                    [
                      0.6666666666666666,
                      "#35b779"
                    ],
                    [
                      0.7777777777777778,
                      "#6ece58"
                    ],
                    [
                      0.8888888888888888,
                      "#b5de2b"
                    ],
                    [
                      1,
                      "#fde725"
                    ]
                  ],
                  "contours": {
                    "coloring": "heatmap"
                  },
                  "type": "histogram2dcontour",
                  "x": {
                    "bdata": "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",
                    "dtype": "f8"
                  },
                  "xaxis": "x2",
                  "y": {
                    "bdata": "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",
                    "dtype": "f8"
                  },
                  "yaxis": "y2"
                }
              ],
              "layout": {
                "annotations": [
                  {
                    "font": {
                      "size": 16
                    },
                    "showarrow": false,
                    "text": "Bitrate vs. Distance to Center with Trendline",
                    "x": 0.225,
                    "xanchor": "center",
                    "xref": "paper",
                    "y": 1,
                    "yanchor": "bottom",
                    "yref": "paper"
                  },
                  {
                    "font": {
                      "size": 16
                    },
                    "showarrow": false,
                    "text": "Spread of Bitrate vs. Distance to Center (Heatmap)",
                    "x": 0.775,
                    "xanchor": "center",
                    "xref": "paper",
                    "y": 1,
                    "yanchor": "bottom",
                    "yref": "paper"
                  }
                ],
                "template": {
                  "data": {
                    "scatter": [
                      {
                        "type": "scatter"
                      }
                    ]
                  }
                },
                "title": {
                  "text": "Bitrate Visualizations"
                },
                "xaxis": {
                  "anchor": "y",
                  "domain": [
                    0,
                    0.45
                  ],
                  "title": {
                    "text": "Distance to Center [m]"
                  }
                },
                "xaxis2": {
                  "anchor": "y2",
                  "domain": [
                    0.55,
                    1
                  ],
                  "title": {
                    "text": "Distance to Center [m]"
                  }
                },
                "yaxis": {
                  "anchor": "x",
                  "domain": [
                    0,
                    1
                  ],
                  "title": {
                    "text": "Bitrate [MBit/s]"
                  }
                },
                "yaxis2": {
                  "anchor": "x2",
                  "domain": [
                    0,
                    1
                  ],
                  "title": {
                    "text": "Bitrate [MBit/s]"
                  }
                }
              }
            }
          },
          "metadata": {},
          "output_type": "display_data"
        }
      ],
      "source": [
        "# plottling\n",
        "scatter_fig = px.scatter(\n",
        "    combined_df_filtered,\n",
        "    x='DISTANCE_CENTER',\n",
        "    y='Bitrate',\n",
        "    title='Bitrate vs. Distance to Center with Trendline (Outliers Removed)',\n",
        "    labels={'DISTANCE_CENTER': 'Distance to Center [m]', 'Bitrate': 'Bitrate [MBit/s]'},\n",
        "    trendline='lowess',\n",
        ")\n",
        "\n",
        "histogram_fig = go.Figure(go.Histogram2dContour(\n",
        "    x=combined_df_filtered['DISTANCE_CENTER'],\n",
        "    y=combined_df_filtered['Bitrate'],\n",
        "    colorscale='Viridis',\n",
        "    colorbar=dict(title='Density'),\n",
        "    contours=dict(coloring='heatmap'),\n",
        "))\n",
        "\n",
        "# Create subplots\n",
        "fig = make_subplots(rows=1, cols=2, subplot_titles=('Bitrate vs. Distance to Center with Trendline', 'Spread of Bitrate vs. Distance to Center (Heatmap)'))\n",
        "\n",
        "for trace in scatter_fig['data']:\n",
        "    fig.add_trace(trace, row=1, col=1)\n",
        "\n",
        "for trace in histogram_fig['data']:\n",
        "     fig.add_trace(trace, row=1, col=2)\n",
        "\n",
        "\n",
        "fig.update_layout(\n",
        "    title_text='Bitrate Visualizations',\n",
        "    template='none'\n",
        ")\n",
        "\n",
        "fig.update_xaxes(title_text='Distance to Center [m]', row=1, col=1)\n",
        "fig.update_yaxes(title_text='Bitrate [MBit/s]', row=1, col=1)\n",
        "fig.update_xaxes(title_text='Distance to Center [m]', row=1, col=2)\n",
        "fig.update_yaxes(title_text='Bitrate [MBit/s]', row=1, col=2)\n",
        "\n",
        "fig.show()"
      ]
    },
    {
      "cell_type": "markdown",
      "metadata": {
        "id": "ac8892f2"
      },
      "source": [
        "## Latency results: Distance to center"
      ]
    },
    {
      "cell_type": "code",
      "execution_count": 7,
      "metadata": {
        "id": "s-vy0vcA9UJG"
      },
      "outputs": [],
      "source": [
        "# Concatenate dataframes with 'Latency' column\n",
        "all_dfs_latency = []\n",
        "for testname, list_of_dfs in testtraces.items():\n",
        "    for df in list_of_dfs:\n",
        "        if 'Latency' in df.columns:\n",
        "            all_dfs_latency.append(df)\n",
        "\n",
        "combined_df_latency = pd.concat(all_dfs_latency, ignore_index=True)\n",
        "\n",
        "# Outlier removal using IQR for Latency and DISTANCE_CENTER\n",
        "def remove_outliers_iqr(df, column):\n",
        "    Q1 = df[column].quantile(0.25)\n",
        "    Q3 = df[column].quantile(0.75)\n",
        "    IQR = Q3 - Q1\n",
        "    lower_bound = Q1 - 1.5 * IQR\n",
        "    upper_bound = Q3 + 1.5 * IQR\n",
        "    return df[(df[column] >= lower_bound) & (df[column] <= upper_bound)]\n",
        "\n",
        "combined_df_latency_filtered = combined_df_latency.copy()\n",
        "combined_df_latency_filtered = remove_outliers_iqr(combined_df_latency_filtered, 'Latency')\n",
        "combined_df_latency_filtered = remove_outliers_iqr(combined_df_latency_filtered, 'DISTANCE_CENTER')"
      ]
    },
    {
      "cell_type": "code",
      "execution_count": 8,
      "metadata": {
        "colab": {
          "base_uri": "https://localhost:8080/",
          "height": 542
        },
        "id": "b7cf2370",
        "outputId": "e2a960f1-78f7-4415-e1a8-5a56fed6fff3"
      },
      "outputs": [
        {
          "data": {
            "application/vnd.plotly.v1+json": {
              "config": {
                "plotlyServerURL": "https://plot.ly"
              },
              "data": [
                {
                  "hovertemplate": "Distance to Center [m]=%{x}<br>Latency [ms]=%{y}<extra></extra>",
                  "legendgroup": "",
                  "marker": {
                    "color": "#636efa",
                    "symbol": "circle"
                  },
                  "mode": "markers",
                  "name": "",
                  "orientation": "v",
                  "showlegend": false,
                  "type": "scatter",
                  "x": {
                    "bdata": "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",
                    "dtype": "f8"
                  },
                  "xaxis": "x",
                  "y": {
                    "bdata": "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",
                    "dtype": "f8"
                  },
                  "yaxis": "y"
                },
                {
                  "hovertemplate": "<b>LOWESS trendline</b><br><br>Distance to Center [m]=%{x}<br>Latency [ms]=%{y} <b>(trend)</b><extra></extra>",
                  "legendgroup": "",
                  "marker": {
                    "color": "#636efa",
                    "symbol": "circle"
                  },
                  "mode": "lines",
                  "name": "",
                  "showlegend": false,
                  "type": "scatter",
                  "x": {
                    "bdata": "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",
                    "dtype": "f8"
                  },
                  "xaxis": "x",
                  "y": {
                    "bdata": "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",
                    "dtype": "f8"
                  },
                  "yaxis": "y"
                },
                {
                  "colorbar": {
                    "title": {
                      "text": "Density"
                    }
                  },
                  "colorscale": [
                    [
                      0,
                      "#440154"
                    ],
                    [
                      0.1111111111111111,
                      "#482878"
                    ],
                    [
                      0.2222222222222222,
                      "#3e4989"
                    ],
                    [
                      0.3333333333333333,
                      "#31688e"
                    ],
                    [
                      0.4444444444444444,
                      "#26828e"
                    ],
                    [
                      0.5555555555555556,
                      "#1f9e89"
                    ],
                    [
                      0.6666666666666666,
                      "#35b779"
                    ],
                    [
                      0.7777777777777778,
                      "#6ece58"
                    ],
                    [
                      0.8888888888888888,
                      "#b5de2b"
                    ],
                    [
                      1,
                      "#fde725"
                    ]
                  ],
                  "contours": {
                    "coloring": "heatmap"
                  },
                  "type": "histogram2dcontour",
                  "x": {
                    "bdata": "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",
                    "dtype": "f8"
                  },
                  "xaxis": "x2",
                  "y": {
                    "bdata": "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",
                    "dtype": "f8"
                  },
                  "yaxis": "y2"
                }
              ],
              "layout": {
                "annotations": [
                  {
                    "font": {
                      "size": 16
                    },
                    "showarrow": false,
                    "text": "Latency vs. Distance to Center with Trendline (Outliers Removed)",
                    "x": 0.225,
                    "xanchor": "center",
                    "xref": "paper",
                    "y": 1,
                    "yanchor": "bottom",
                    "yref": "paper"
                  },
                  {
                    "font": {
                      "size": 16
                    },
                    "showarrow": false,
                    "text": "Spread of Latency vs. Distance to Center (2D Histogram, Outliers Removed)",
                    "x": 0.775,
                    "xanchor": "center",
                    "xref": "paper",
                    "y": 1,
                    "yanchor": "bottom",
                    "yref": "paper"
                  }
                ],
                "showlegend": false,
                "template": {
                  "data": {
                    "scatter": [
                      {
                        "type": "scatter"
                      }
                    ]
                  }
                },
                "title": {
                  "text": "Latency Visualizations (Outliers Removed)"
                },
                "xaxis": {
                  "anchor": "y",
                  "domain": [
                    0,
                    0.45
                  ],
                  "title": {
                    "text": "Distance to Center [m]"
                  }
                },
                "xaxis2": {
                  "anchor": "y2",
                  "domain": [
                    0.55,
                    1
                  ],
                  "title": {
                    "text": "Distance to Center [m]"
                  }
                },
                "yaxis": {
                  "anchor": "x",
                  "domain": [
                    0,
                    1
                  ],
                  "title": {
                    "text": "Latency [ms]"
                  }
                },
                "yaxis2": {
                  "anchor": "x2",
                  "domain": [
                    0,
                    1
                  ],
                  "title": {
                    "text": "Latency [ms]"
                  }
                }
              }
            }
          },
          "metadata": {},
          "output_type": "display_data"
        }
      ],
      "source": [
        "# plotting\n",
        "scatter_fig_latency = px.scatter(\n",
        "    combined_df_latency_filtered,\n",
        "    x='DISTANCE_CENTER',\n",
        "    y='Latency',\n",
        "    title='Latency vs. Distance to Center with Trendline (Outliers Removed)',\n",
        "    labels={'DISTANCE_CENTER': 'Distance to Center [m]', 'Latency': 'Latency [ms]'},\n",
        "    trendline='lowess'\n",
        ")\n",
        "\n",
        "histogram_fig_latency = go.Figure(go.Histogram2dContour(\n",
        "    x=combined_df_latency_filtered['DISTANCE_CENTER'],\n",
        "    y=combined_df_latency_filtered['Latency'],\n",
        "    colorscale='Viridis',\n",
        "    colorbar=dict(title='Density'),\n",
        "    contours=dict(coloring='heatmap'),\n",
        "))\n",
        "\n",
        "# Create subplots\n",
        "fig_latency = make_subplots(rows=1, cols=2, subplot_titles=('Latency vs. Distance to Center with Trendline (Outliers Removed)', 'Spread of Latency vs. Distance to Center (2D Histogram, Outliers Removed)'))\n",
        "\n",
        "for trace in scatter_fig_latency['data']:\n",
        "    fig_latency.add_trace(trace, row=1, col=1)\n",
        "\n",
        "for trace in histogram_fig_latency['data']:\n",
        "     fig_latency.add_trace(trace, row=1, col=2)\n",
        "\n",
        "\n",
        "fig_latency.update_layout(\n",
        "    title_text='Latency Visualizations (Outliers Removed)',\n",
        "    showlegend=False,\n",
        "    template='none'\n",
        ")\n",
        "\n",
        "fig_latency.update_xaxes(title_text='Distance to Center [m]', row=1, col=1)\n",
        "fig_latency.update_yaxes(title_text='Latency [ms]', row=1, col=1)\n",
        "fig_latency.update_xaxes(title_text='Distance to Center [m]', row=1, col=2)\n",
        "fig_latency.update_yaxes(title_text='Latency [ms]', row=1, col=2)\n",
        "\n",
        "fig_latency.show()"
      ]
    },
    {
      "cell_type": "markdown",
      "metadata": {
        "id": "cd8e768a"
      },
      "source": [
        "## Bandwith and Latency on geomap"
      ]
    },
    {
      "cell_type": "code",
      "execution_count": 9,
      "metadata": {
        "id": "AbUW1EJVHf84"
      },
      "outputs": [],
      "source": [
        "# Concatenate all dataframes for plotting\n",
        "all_dfs_map = []\n",
        "for testname, list_of_dfs in testtraces.items():\n",
        "    for df in list_of_dfs:\n",
        "        all_dfs_map.append(df)\n",
        "\n",
        "combined_df_map = pd.concat(all_dfs_map, ignore_index=True)\n",
        "\n",
        "# Outlier removal using IQR\n",
        "def remove_outliers_iqr(df, column):\n",
        "    Q1 = df[column].quantile(0.25)\n",
        "    Q3 = df[column].quantile(0.75)\n",
        "    IQR = Q3 - Q1\n",
        "    lower_bound = Q1 - 1.5 * IQR\n",
        "    upper_bound = Q3 + 1.5 * IQR\n",
        "    return df[(df[column] >= lower_bound) & (df[column] <= upper_bound)]\n",
        "\n",
        "combined_df_map_filtered = combined_df_map.copy()\n",
        "combined_df_map_filtered = remove_outliers_iqr(combined_df_map_filtered, 'Bitrate')\n",
        "combined_df_map_filtered = remove_outliers_iqr(combined_df_map_filtered, 'DISTANCE_CENTER')\n",
        "\n",
        "# Drop rows with NaN in Latency column for plotting size and color on the Latency map\n",
        "if 'Latency' in combined_df_map_filtered.columns and not combined_df_map_filtered['Latency'].isnull().all():\n",
        "    combined_df_map_filtered = remove_outliers_iqr(combined_df_map_filtered, 'Latency')\n",
        "\n",
        "combined_df_map_latency_filtered = combined_df_map_filtered.dropna(subset=['Latency']).copy()"
      ]
    },
    {
      "cell_type": "code",
      "execution_count": 10,
      "metadata": {
        "colab": {
          "base_uri": "https://localhost:8080/",
          "height": 542
        },
        "id": "65aa0837",
        "outputId": "55f8e380-acef-40c6-c7fc-8b958fbf518c"
      },
      "outputs": [
        {
          "name": "stderr",
          "output_type": "stream",
          "text": [
            "/tmp/ipykernel_81305/3453872979.py:5: DeprecationWarning:\n",
            "\n",
            "*scattermapbox* is deprecated! Use *scattermap* instead. Learn more at: https://plotly.com/python/mapbox-to-maplibre/\n",
            "\n",
            "/tmp/ipykernel_81305/3453872979.py:21: DeprecationWarning:\n",
            "\n",
            "*scattermapbox* is deprecated! Use *scattermap* instead. Learn more at: https://plotly.com/python/mapbox-to-maplibre/\n",
            "\n"
          ]
        },
        {
          "data": {
            "application/vnd.plotly.v1+json": {
              "config": {
                "plotlyServerURL": "https://plot.ly"
              },
              "data": [
                {
                  "lat": {
                    "bdata": "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",
                    "dtype": "f8"
                  },
                  "lon": {
                    "bdata": "JXEcmcMgJUApaQVTuyAlQDOmYI2zICVA+wfsxasgJUBBK50ApCAlQOx/qTScICVAqOE1kZQgJUBqUEM6jSAlQG6skUuGICVAy/u0YX8gJUCrAXh7eCAlQEMh5rhxICVARnvnEGsgJUBz0KSbZCAlQIMEJQJeICVAx8EwVlcgJUAqQAxbUCAlQM/VQghJICVAc6cEXEEgJUDRuPGgOSAlQLefweMxICVAf+lF0SkgJUDRvP1oISAlQOKy6YwYICVAn8LSPw8gJUDlQZuYBSAlQA52XdT7HyVAzJUMw/EfJUDLbqVY5x8lQMUAf7TcHyVApmaV7dEfJUCCwSZMxx8lQNvJH428HyVAKPiZv7EfJUCTkQT4ph8lQHtQnBicHyVAjDBwOZEfJUD9uL6Ohh8lQBQsAT18HyVArk0AUXIfJUCn4YTXaB8lQHwnEL1fHyVAwhIhC1cfJUAxXfVxTh8lQHcmzx1GHyVA2hzBbz4fJUDA2xRzNh8lQL7wcxEZHyVAMLtXSCEfJUBbYNZeIB8lQHKYxUogHyVAJDN84yIfJUAndrv+Jx8lQMQXyuIuHyVA/PPFwjYfJUDUsX3aPh8lQF88i/dGHyVA+zPX904fJUBoB0W7Vh8lQFM21SheHyVAwPGM6GQfJUALf4Y3ax8lQH8bSyBxHyVA1fjdWHYfJUDNPWtRex8lQNMMZYV7HyVAo/Bp5nofJUDT+kRmeh8lQJ0jypV8HyVAtwyOS4IfJUCJJcTgih8lQBR09Q+UHyVA/Wqhc50fJUDUCM0Tpx8lQO7ANmu7HyVANoQ/0MUfJUChJQ4n0B8lQJbsCELaHyVALd6u6O0fJUAoTHg/9x8lQMrs7F4AICVAcuorkQkgJUCwkr8WHCAlQLcURmklICVAL2pkSC8gJUAAoZV+OSAlQAHMRRREICVAAeUz/E4gJUDwZhoIWiAlQJGBrhBlICVAhfTF8m8gJUBuF+Z5eiAlQBBKI1yEICVA3NHm1YwgJUDNxTP2kiAlQFruoYRmHyVAkLW0imYfJUC6xnuWZh8lQDeIoZhmHyVA0YAPmGYfJUBmWjqdZh8lQGBlwJtmHyVAQ+B7kWYfJUDj9yyLZh8lQOMh9oNmHyVAK0bSeGYfJUBsS2tzZh8lQCs2XYRmHyVAm4Fpz2cfJUCyxUBnah8lQD5Cu61uHyVArdVHdXQfJUCpmzAGex8lQL1nC6WCHyVABusyDosfJUDh6PAx1B8lQLKOv8HSHyVAB02KENAfJUDlZMu6yx8lQB6sDp/FHyVA2s8T470fJUDZ4kjXtB8lQEM0q1irHyVA4/rap6EfJUDQmJCplx8lQHAtZamNHyVA4O+gpIMfJUB63/Mheh8lQElEwyVxHyVAHgQQg2gfJUBSUoMQYB8lQAkhod9XHyVAxcqTZFAfJUCBnk/iSB8lQPByCW5BHyVAMC/APjofJUAEDQg9Mx8lQBnS+r4sHyVAbyJ0fCYfJUDkJ5EhIB8lQCCj9x4SHyVA2diURxEfJUBRswoSEB8lQBYnLi8PHyVApS0W1Q4fJUBoQzOMER8lQFNMxKwuHyVAxTibaDkfJUC5WW0SRB8lQD0jtmBOHyVAo+urc1gfJUCYEmVJYh8lQFeU8XNsHyVA2xkdxXYfJUBlKiVNgR8lQO+HFA2WHyVAHzEc/Z8fJUDr+BG6qR8lQD/4pKGzHyVAAxBEBIYgJUCMgR8chiAlQA/UtzmGICVAG3AAd4UgJUDtw9oVgyAlQJWk1Qp/ICVAqkmNXHkgJUCKm//JciAlQKY1JPNqICVApHDVJmIgJUDeP5ciWSAlQGCr+hhQICVA0N3HNEcgJUAtP0+HPiAlQA7L8rc1ICVAH0+vuiwgJUApoGqjIyAlQPJPlHcaICVAIaneShEgJUDMIcAhCCAlQAzSPf/+HyVAWTgH1/UfJUBRZje+7B8lQK9hu7jjHyVAxtrxvNofJUDu7njI0R8lQO3t75zIHyVA/cH1Zb8fJUAyxgZZth8lQO+f+kmtHyVAO/ZOLaQfJUAQ4LXKmh8lQFZD3WWRHyVAGoxdF4gfJUDdujh9fx8lQPjWsHR4HyVAVBykM3IfJUCZIxIibB8lQOqCWglmHyVAz8Fj2l8fJUAaZnCtWR8lQAvdaY5THyVAPtmkDU0fJUAdBZetRh8lQDLeR09AHyVArWxFuTkfJUDqQI9+Hx8lQB8QNNsfHyVARlwAGqUfJUCgX0oTpR8lQIjzsh6lHyVAe1uzDKYfJUC7GFF6qR8lQIhClsivHyVAThNnWbgfJUBJnytRwx8lQJw8wO7PHyVA0GzGhd0fJUCrR+yj6x8lQC177BD6HyVADV/5CAkgJUBH1M+RGCAlQHUtV8gnICVAqfNuTTYgJUDKvibJRSAlQAoP0gdWICVAxiAQ5ZQgJUAjRE2CpCAlQNfQQgy4ICVAPHnNtawgJUDp9TvVoCAlQPuL/qKUICVAr/dkw28gJUDxaAlQWCAlQD6gvxJAICVA37CVGTQgJUCM55mCKCAlQPeUEyIdICVAo/fc9REgJUCurFjvfCAlQPZ2rpx7ICVAYyMGPXggJUAcRpypayAlQD6/L/tjICVAbP7UglsgJUB2/fnrUiAlQOqZUTgqICVAuVReWCIgJUDbM0ZJGiAlQOsFrhESICVAJQ9dswkgJUBffBM7ASAlQDnD86P4HyVAwTVCAvAfJUCQoqNc5x8lQKb1WZPeHyVAS3Un9tUfJUBzv1J8zR8lQH1acP/EHyVA/1npcbwfJUCM/zjqsx8lQOqIPHyrHyVAR4a86KIfJUCB7ylFmh8lQIAWzBGSHyVAPKwAd4ofJUAbejDOhB8lQDQkQrGCHyVA7P3Hu4MfJUDxahTthR8lQJH4Sl2IHyVAyziFFosfJUB9Y0wdix8lQGZBuVGKHyVArpvbT4kfJUDM0HgiiB8lQA==",
                    "dtype": "f8"
                  },
                  "marker": {
                    "color": {
                      "bdata": "9ihcj8L1+D/hehSuR+EEQK5H4XoUriBAw/UoXI/CEkAzMzMzM7M8QM3MzMzMzDJAzczMzMxMQ0AAAAAAAABCQDMzMzMzs0dAMzMzMzOzMUAzMzMzMzNBQDMzMzMzM0dAMzMzMzNTUUAAAAAAAABPQDMzMzMzE1RAMzMzMzMTV0AzMzMzMzNUQM3MzMzMjFZAzczMzMzMVkDNzMzMzIxWQDMzMzMzU1RAzczMzMzMVkDNzMzMzOxTQDMzMzMzU1RAzczMzMzMVkDNzMzMzOxWQDMzMzMzc1dAZmZmZmaGV0CamZmZmZlXQDMzMzMzc09AmpmZmZn5VECamZmZmflUQDMzMzMzc09AmpmZmZn5VEAAAAAAAIA/QJqZmZmZ+VRAmpmZmZn5VEAzMzMzMzNKQAAAAAAAACVAAAAAAAAANUAAAAAAAAAlQAAAAAAAADVAAAAAAAAAJUAAAAAAAAAlQAAAAAAAACVAAAAAAAAANUAAAAAAAAAAAAAAAAAAAAAAmpmZmZmZV0CamZmZmflUQJqZmZmZ+VRAmpmZmZn5VECamZmZmflUQJqZmZmZmVdAmpmZmZmZV0CamZmZmZlXQJqZmZmZmVdAmpmZmZmZV0CamZmZmVlSQDMzMzMzc09AmpmZmZmZV0CamZmZmZlXQGZmZmZmZj9AAAAAAAAAJUAAAAAAAIA/QAAAAAAAgD9AMzMzMzPzREAzMzMzM/NEQAAAAAAAgD9AAAAAAACAP0AAAAAAAIA/QAAAAAAAADVAAAAAAACAP0AAAAAAAAA1QAAAAAAAADVAAAAAAAAANUAAAAAAAAAlQAAAAAAAACVAAAAAAAAAJUAAAAAAAAAlQAAAAAAAAAAAAAAAAAAANUCamZmZmVlSQJqZmZmZmVdAmpmZmZlZUkCamZmZmflUQJqZmZmZWVJAMzMzMzMzSkAzMzMzM/NEQAAAAAAAADVAAAAAAAAANUAAAAAAAAA1QAAAAAAAADVAAAAAAAAAJUAAAAAAAAAAAAAAAAAAAFpAmpmZmZmZV0CamZmZmZlXQJqZmZmZ+VRAmpmZmZmZV0CamZmZmZlXQJqZmZmZmVdAmpmZmZmZV0CamZmZmZlXQJqZmZmZmVdAmpmZmZmZV0CamZmZmZlXQJqZmZmZmVdAmpmZmZmZV0CamZmZmZlXQJqZmZmZWVJAmpmZmZmZV0CamZmZmflUQDMzMzMzc09AMzMzMzNzT0AAAAAAAKBSQAAAAAAAAEhAzczMzMzMUEDNzMzMzExQQAAAAAAAoFJAZmZmZmYmVkAAAAAAAEBSQM3MzMzMzFNAZmZmZmbGWEDNzMzMzExQQGZmZmZm5lJAAAAAAABAWEDNzMzMzOxWQGZmZmZm5lhAMzMzMzPzVECamZmZmZlXQJqZmZmZmVdAmpmZmZmZV0CamZmZmZlXQJqZmZmZmVdAmpmZmZmZV0AzMzMzMzNKQAAAAAAAADVAAAAAAAAANUAAAAAAAAAAAAAAAAAAAAAAAAAAAAAAAAAAAAAAAAAlQAAAAAAAACVAAAAAAAAAAAAAAAAAAAAAAAAAAAAAADVAMzMzMzMzSkAzMzMzM/NEQDMzMzMzM0pAMzMzMzMzSkAzMzMzMzNKQDMzMzMz80RAAAAAAACAP0AAAAAAAAAlQAAAAAAAgD9AAAAAAAAANUAAAAAAAAA1QAAAAAAAACVAMzMzMzPzQEAzMzMzM/NAQDMzMzMzszBAAAAAAACAOUAzMzMzM7MxQDMzMzMzM0FAmpmZmZnZSkAzMzMzMxNRQDMzMzMzU1FAAAAAAABgVUAAAAAAAMBVQJqZmZmZ+VdAZmZmZmYmVkDNzMzMzGxWQAAAAAAAQFVAmpmZmZm5VEDNzMzMzIxXQJqZmZmZmVdAmpmZmZmZV0CamZmZmZlXQJqZmZmZmVdAmpmZmZmZV0CamZmZmflUQJqZmZmZ+VRAmpmZmZlZUkAzMzMzM3NPQJqZmZmZWVJAmpmZmZn5VECamZmZmflUQJqZmZmZWVJAMzMzMzMzSkCamZmZmflUQJqZmZmZmVdAMzMzMzMzSkAAAAAAAAA1QAAAAAAAACVAAAAAAAAAAAAAAAAAAAAlQAAAAAAAAAAAAAAAAAAAJUAAAAAAAAAlQAAAAAAAAAAAAAAAAAAAJUAAAAAAAAAlQAAAAAAAACVAAAAAAAAAJUAAAAAAAAAAAAAAAAAAAAAAzczMzMwsVkBmZmZmZoZXQJqZmZmZWVJAmpmZmZn5VECamZmZmZlXQJqZmZmZmVdAMzMzMzPzREAzMzMzMzNKQAAAAAAAADVAAAAAAAAANUAAAAAAAAA1QAAAAAAAACVAAAAAAAAAJUAAAAAAAAAlQAAAAAAAACVAAAAAAAAAJUAAAAAAAAAlQAAAAAAAAAAAAAAAAAAAAAAAAAAAAAAAAAAAAAAAAAAAAAAAAAAAAAAAAAAAAAAlQAAAAAAAAAAAAAAAAAAAAAAAAAAAAAAlQAAAAAAAAEVAMzMzMzMzSkBmZmZmZmY/QAAAAAAAgD9AMzMzMzPzREDNzMzMzEw0QAAAAAAAADhAzczMzMzMMkBI4XoUrkcfQDMzMzMzszFAMzMzMzOzMUAAAAAAAMBCQJqZmZmZ+VRAmpmZmZmZV0AzMzMzM3NPQJqZmZmZmVdAmpmZmZmZV0CamZmZmZlXQJqZmZmZmVdAmpmZmZmZV0CamZmZmZlXQJqZmZmZmVdAMzMzMzMzSkCamZmZmflUQJqZmZmZ+VRAmpmZmZn5VECamZmZmZlXQDMzMzMzc09AmpmZmZn5VEAzMzMzM/NEQAAAAAAAgD9AMzMzMzPzREAAAAAAAAAlQAAAAAAAADVAAAAAAAAANUAAAAAAAAAAAAAAAAAAAAAAAAAAAAAAAAAAAAAAAAAlQAAAAAAAAAAAAAAAAAAAAAAAAAAAAAAAAA==",
                      "dtype": "f8"
                    },
                    "colorbar": {
                      "title": {
                        "text": "Bitrate [MBit/s]"
                      },
                      "x": 0.45
                    },
                    "colorscale": [
                      [
                        0,
                        "#440154"
                      ],
                      [
                        0.1111111111111111,
                        "#482878"
                      ],
                      [
                        0.2222222222222222,
                        "#3e4989"
                      ],
                      [
                        0.3333333333333333,
                        "#31688e"
                      ],
                      [
                        0.4444444444444444,
                        "#26828e"
                      ],
                      [
                        0.5555555555555556,
                        "#1f9e89"
                      ],
                      [
                        0.6666666666666666,
                        "#35b779"
                      ],
                      [
                        0.7777777777777778,
                        "#6ece58"
                      ],
                      [
                        0.8888888888888888,
                        "#b5de2b"
                      ],
                      [
                        1,
                        "#fde725"
                      ]
                    ],
                    "size": 16
                  },
                  "mode": "markers",
                  "name": "Bitrate",
                  "subplot": "mapbox",
                  "text": [
                    "Bitrate: 1.56",
                    "Bitrate: 2.61",
                    "Bitrate: 8.34",
                    "Bitrate: 4.69",
                    "Bitrate: 28.70",
                    "Bitrate: 18.80",
                    "Bitrate: 38.60",
                    "Bitrate: 36.00",
                    "Bitrate: 47.40",
                    "Bitrate: 17.70",
                    "Bitrate: 34.40",
                    "Bitrate: 46.40",
                    "Bitrate: 69.30",
                    "Bitrate: 62.00",
                    "Bitrate: 80.30",
                    "Bitrate: 92.30",
                    "Bitrate: 80.80",
                    "Bitrate: 90.20",
                    "Bitrate: 91.20",
                    "Bitrate: 90.20",
                    "Bitrate: 81.30",
                    "Bitrate: 91.20",
                    "Bitrate: 79.70",
                    "Bitrate: 81.30",
                    "Bitrate: 91.20",
                    "Bitrate: 91.70",
                    "Bitrate: 93.80",
                    "Bitrate: 94.10",
                    "Bitrate: 94.40",
                    "Bitrate: 62.90",
                    "Bitrate: 83.90",
                    "Bitrate: 83.90",
                    "Bitrate: 62.90",
                    "Bitrate: 83.90",
                    "Bitrate: 31.50",
                    "Bitrate: 83.90",
                    "Bitrate: 83.90",
                    "Bitrate: 52.40",
                    "Bitrate: 10.50",
                    "Bitrate: 21.00",
                    "Bitrate: 10.50",
                    "Bitrate: 21.00",
                    "Bitrate: 10.50",
                    "Bitrate: 10.50",
                    "Bitrate: 10.50",
                    "Bitrate: 21.00",
                    "Bitrate: 0.00",
                    "Bitrate: 0.00",
                    "Bitrate: 94.40",
                    "Bitrate: 83.90",
                    "Bitrate: 83.90",
                    "Bitrate: 83.90",
                    "Bitrate: 83.90",
                    "Bitrate: 94.40",
                    "Bitrate: 94.40",
                    "Bitrate: 94.40",
                    "Bitrate: 94.40",
                    "Bitrate: 94.40",
                    "Bitrate: 73.40",
                    "Bitrate: 62.90",
                    "Bitrate: 94.40",
                    "Bitrate: 94.40",
                    "Bitrate: 31.40",
                    "Bitrate: 10.50",
                    "Bitrate: 31.50",
                    "Bitrate: 31.50",
                    "Bitrate: 41.90",
                    "Bitrate: 41.90",
                    "Bitrate: 31.50",
                    "Bitrate: 31.50",
                    "Bitrate: 31.50",
                    "Bitrate: 21.00",
                    "Bitrate: 31.50",
                    "Bitrate: 21.00",
                    "Bitrate: 21.00",
                    "Bitrate: 21.00",
                    "Bitrate: 10.50",
                    "Bitrate: 10.50",
                    "Bitrate: 10.50",
                    "Bitrate: 10.50",
                    "Bitrate: 0.00",
                    "Bitrate: 21.00",
                    "Bitrate: 73.40",
                    "Bitrate: 94.40",
                    "Bitrate: 73.40",
                    "Bitrate: 83.90",
                    "Bitrate: 73.40",
                    "Bitrate: 52.40",
                    "Bitrate: 41.90",
                    "Bitrate: 21.00",
                    "Bitrate: 21.00",
                    "Bitrate: 21.00",
                    "Bitrate: 21.00",
                    "Bitrate: 10.50",
                    "Bitrate: 0.00",
                    "Bitrate: 104.00",
                    "Bitrate: 94.40",
                    "Bitrate: 94.40",
                    "Bitrate: 83.90",
                    "Bitrate: 94.40",
                    "Bitrate: 94.40",
                    "Bitrate: 94.40",
                    "Bitrate: 94.40",
                    "Bitrate: 94.40",
                    "Bitrate: 94.40",
                    "Bitrate: 94.40",
                    "Bitrate: 94.40",
                    "Bitrate: 94.40",
                    "Bitrate: 94.40",
                    "Bitrate: 94.40",
                    "Bitrate: 73.40",
                    "Bitrate: 94.40",
                    "Bitrate: 83.90",
                    "Bitrate: 62.90",
                    "Bitrate: 62.90",
                    "Bitrate: 74.50",
                    "Bitrate: 48.00",
                    "Bitrate: 67.20",
                    "Bitrate: 65.20",
                    "Bitrate: 74.50",
                    "Bitrate: 88.60",
                    "Bitrate: 73.00",
                    "Bitrate: 79.20",
                    "Bitrate: 99.10",
                    "Bitrate: 65.20",
                    "Bitrate: 75.60",
                    "Bitrate: 97.00",
                    "Bitrate: 91.70",
                    "Bitrate: 99.60",
                    "Bitrate: 83.80",
                    "Bitrate: 94.40",
                    "Bitrate: 94.40",
                    "Bitrate: 94.40",
                    "Bitrate: 94.40",
                    "Bitrate: 94.40",
                    "Bitrate: 94.40",
                    "Bitrate: 52.40",
                    "Bitrate: 21.00",
                    "Bitrate: 21.00",
                    "Bitrate: 0.00",
                    "Bitrate: 0.00",
                    "Bitrate: 0.00",
                    "Bitrate: 10.50",
                    "Bitrate: 10.50",
                    "Bitrate: 0.00",
                    "Bitrate: 0.00",
                    "Bitrate: 21.00",
                    "Bitrate: 52.40",
                    "Bitrate: 41.90",
                    "Bitrate: 52.40",
                    "Bitrate: 52.40",
                    "Bitrate: 52.40",
                    "Bitrate: 41.90",
                    "Bitrate: 31.50",
                    "Bitrate: 10.50",
                    "Bitrate: 31.50",
                    "Bitrate: 21.00",
                    "Bitrate: 21.00",
                    "Bitrate: 10.50",
                    "Bitrate: 33.90",
                    "Bitrate: 33.90",
                    "Bitrate: 16.70",
                    "Bitrate: 25.50",
                    "Bitrate: 17.70",
                    "Bitrate: 34.40",
                    "Bitrate: 53.70",
                    "Bitrate: 68.30",
                    "Bitrate: 69.30",
                    "Bitrate: 85.50",
                    "Bitrate: 87.00",
                    "Bitrate: 95.90",
                    "Bitrate: 88.60",
                    "Bitrate: 89.70",
                    "Bitrate: 85.00",
                    "Bitrate: 82.90",
                    "Bitrate: 94.20",
                    "Bitrate: 94.40",
                    "Bitrate: 94.40",
                    "Bitrate: 94.40",
                    "Bitrate: 94.40",
                    "Bitrate: 94.40",
                    "Bitrate: 83.90",
                    "Bitrate: 83.90",
                    "Bitrate: 73.40",
                    "Bitrate: 62.90",
                    "Bitrate: 73.40",
                    "Bitrate: 83.90",
                    "Bitrate: 83.90",
                    "Bitrate: 73.40",
                    "Bitrate: 52.40",
                    "Bitrate: 83.90",
                    "Bitrate: 94.40",
                    "Bitrate: 52.40",
                    "Bitrate: 21.00",
                    "Bitrate: 10.50",
                    "Bitrate: 0.00",
                    "Bitrate: 10.50",
                    "Bitrate: 0.00",
                    "Bitrate: 10.50",
                    "Bitrate: 10.50",
                    "Bitrate: 0.00",
                    "Bitrate: 10.50",
                    "Bitrate: 10.50",
                    "Bitrate: 10.50",
                    "Bitrate: 10.50",
                    "Bitrate: 0.00",
                    "Bitrate: 0.00",
                    "Bitrate: 88.70",
                    "Bitrate: 94.10",
                    "Bitrate: 73.40",
                    "Bitrate: 83.90",
                    "Bitrate: 94.40",
                    "Bitrate: 94.40",
                    "Bitrate: 41.90",
                    "Bitrate: 52.40",
                    "Bitrate: 21.00",
                    "Bitrate: 21.00",
                    "Bitrate: 21.00",
                    "Bitrate: 10.50",
                    "Bitrate: 10.50",
                    "Bitrate: 10.50",
                    "Bitrate: 10.50",
                    "Bitrate: 10.50",
                    "Bitrate: 10.50",
                    "Bitrate: 0.00",
                    "Bitrate: 0.00",
                    "Bitrate: 0.00",
                    "Bitrate: 0.00",
                    "Bitrate: 0.00",
                    "Bitrate: 10.50",
                    "Bitrate: 0.00",
                    "Bitrate: 0.00",
                    "Bitrate: 10.50",
                    "Bitrate: 42.00",
                    "Bitrate: 52.40",
                    "Bitrate: 31.40",
                    "Bitrate: 31.50",
                    "Bitrate: 41.90",
                    "Bitrate: 20.30",
                    "Bitrate: 24.00",
                    "Bitrate: 18.80",
                    "Bitrate: 7.82",
                    "Bitrate: 17.70",
                    "Bitrate: 17.70",
                    "Bitrate: 37.50",
                    "Bitrate: 83.90",
                    "Bitrate: 94.40",
                    "Bitrate: 62.90",
                    "Bitrate: 94.40",
                    "Bitrate: 94.40",
                    "Bitrate: 94.40",
                    "Bitrate: 94.40",
                    "Bitrate: 94.40",
                    "Bitrate: 94.40",
                    "Bitrate: 94.40",
                    "Bitrate: 52.40",
                    "Bitrate: 83.90",
                    "Bitrate: 83.90",
                    "Bitrate: 83.90",
                    "Bitrate: 94.40",
                    "Bitrate: 62.90",
                    "Bitrate: 83.90",
                    "Bitrate: 41.90",
                    "Bitrate: 31.50",
                    "Bitrate: 41.90",
                    "Bitrate: 10.50",
                    "Bitrate: 21.00",
                    "Bitrate: 21.00",
                    "Bitrate: 0.00",
                    "Bitrate: 0.00",
                    "Bitrate: 0.00",
                    "Bitrate: 10.50",
                    "Bitrate: 0.00",
                    "Bitrate: 0.00",
                    "Bitrate: 0.00"
                  ],
                  "type": "scattermapbox"
                },
                {
                  "lat": {
                    "bdata": "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",
                    "dtype": "f8"
                  },
                  "lon": {
                    "bdata": "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",
                    "dtype": "f8"
                  },
                  "marker": {
                    "color": {
                      "bdata": "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",
                      "dtype": "f8"
                    },
                    "colorbar": {
                      "title": {
                        "text": "Latency [ms]"
                      },
                      "x": 1
                    },
                    "colorscale": [
                      [
                        0,
                        "green"
                      ],
                      [
                        0.5,
                        "grey"
                      ],
                      [
                        1,
                        "red"
                      ]
                    ],
                    "size": 16
                  },
                  "mode": "markers",
                  "name": "Latency",
                  "subplot": "mapbox2",
                  "text": [
                    "Latency: 16.10",
                    "Latency: 5.22",
                    "Latency: 87.20",
                    "Latency: 106.00",
                    "Latency: 5.92",
                    "Latency: 8.21",
                    "Latency: 59.50",
                    "Latency: 22.50",
                    "Latency: 57.00",
                    "Latency: 46.40",
                    "Latency: 86.60",
                    "Latency: 72.00",
                    "Latency: 55.10",
                    "Latency: 22.70",
                    "Latency: 31.00",
                    "Latency: 33.30",
                    "Latency: 15.80",
                    "Latency: 29.80",
                    "Latency: 21.00",
                    "Latency: 41.70",
                    "Latency: 43.70",
                    "Latency: 21.10",
                    "Latency: 46.50",
                    "Latency: 16.10",
                    "Latency: 47.10",
                    "Latency: 49.60",
                    "Latency: 40.80",
                    "Latency: 48.80",
                    "Latency: 48.10",
                    "Latency: 51.00",
                    "Latency: 64.70",
                    "Latency: 53.10",
                    "Latency: 67.20",
                    "Latency: 120.00",
                    "Latency: 52.10",
                    "Latency: 39.40",
                    "Latency: 48.40",
                    "Latency: 54.10",
                    "Latency: 24.10",
                    "Latency: 22.30",
                    "Latency: 9.32",
                    "Latency: 45.90",
                    "Latency: 74.20",
                    "Latency: 53.30",
                    "Latency: 63.20",
                    "Latency: 115.00",
                    "Latency: 8.76",
                    "Latency: 13.40",
                    "Latency: 12.10",
                    "Latency: 20.20",
                    "Latency: 90.30",
                    "Latency: 33.90",
                    "Latency: 41.10",
                    "Latency: 32.90",
                    "Latency: 30.70",
                    "Latency: 102.00",
                    "Latency: 86.20",
                    "Latency: 96.30",
                    "Latency: 113.00",
                    "Latency: 71.60",
                    "Latency: 19.20",
                    "Latency: 43.70",
                    "Latency: 37.90",
                    "Latency: 82.20",
                    "Latency: 58.30",
                    "Latency: 55.00",
                    "Latency: 26.50",
                    "Latency: 11.00",
                    "Latency: 78.90",
                    "Latency: 23.40",
                    "Latency: 34.50",
                    "Latency: 5.66",
                    "Latency: 62.60",
                    "Latency: 167.00",
                    "Latency: 55.30",
                    "Latency: 44.90",
                    "Latency: 52.40",
                    "Latency: 188.00",
                    "Latency: 120.00",
                    "Latency: 48.30",
                    "Latency: 140.00",
                    "Latency: 61.00",
                    "Latency: 111.00",
                    "Latency: 9.81",
                    "Latency: 10.50",
                    "Latency: 15.90",
                    "Latency: 28.50",
                    "Latency: 11.80",
                    "Latency: 24.10",
                    "Latency: 26.50",
                    "Latency: 43.70",
                    "Latency: 123.00",
                    "Latency: 22.70",
                    "Latency: 29.40",
                    "Latency: 40.50",
                    "Latency: 2.39",
                    "Latency: 36.00",
                    "Latency: 18.50",
                    "Latency: 43.20",
                    "Latency: 70.90",
                    "Latency: 83.10",
                    "Latency: 79.10",
                    "Latency: 96.90",
                    "Latency: 71.00",
                    "Latency: 77.30",
                    "Latency: 76.50",
                    "Latency: 82.00",
                    "Latency: 83.60",
                    "Latency: 85.30",
                    "Latency: 45.30",
                    "Latency: 83.60",
                    "Latency: 71.70",
                    "Latency: 85.20",
                    "Latency: 32.70",
                    "Latency: 86.60",
                    "Latency: 1.38",
                    "Latency: 15.40",
                    "Latency: 27.00",
                    "Latency: 35.90",
                    "Latency: 29.90",
                    "Latency: 32.30",
                    "Latency: 32.10",
                    "Latency: 34.50",
                    "Latency: 26.30",
                    "Latency: 25.80",
                    "Latency: 34.00",
                    "Latency: 37.60",
                    "Latency: 28.20",
                    "Latency: 39.80",
                    "Latency: 34.50",
                    "Latency: 48.90",
                    "Latency: 32.80",
                    "Latency: 61.80",
                    "Latency: 71.40",
                    "Latency: 77.50",
                    "Latency: 25.00",
                    "Latency: 77.00",
                    "Latency: 83.90",
                    "Latency: 40.20",
                    "Latency: 132.00",
                    "Latency: 115.00",
                    "Latency: 67.00",
                    "Latency: 113.00",
                    "Latency: 203.00",
                    "Latency: 52.10",
                    "Latency: 174.00",
                    "Latency: 101.00",
                    "Latency: 99.60",
                    "Latency: 106.00",
                    "Latency: 100.00",
                    "Latency: 99.90",
                    "Latency: 106.00",
                    "Latency: 110.00",
                    "Latency: 119.00",
                    "Latency: 163.00",
                    "Latency: 46.10",
                    "Latency: 39.40",
                    "Latency: 46.60",
                    "Latency: 148.00",
                    "Latency: 77.20",
                    "Latency: 51.00",
                    "Latency: 36.20",
                    "Latency: 44.70",
                    "Latency: 92.40",
                    "Latency: 106.00",
                    "Latency: 71.80",
                    "Latency: 64.10",
                    "Latency: 26.40",
                    "Latency: 30.30",
                    "Latency: 22.80",
                    "Latency: 35.50",
                    "Latency: 34.70",
                    "Latency: 32.30",
                    "Latency: 32.30",
                    "Latency: 30.20",
                    "Latency: 30.00",
                    "Latency: 24.00",
                    "Latency: 23.80",
                    "Latency: 61.50",
                    "Latency: 70.10",
                    "Latency: 87.60",
                    "Latency: 53.30",
                    "Latency: 50.80",
                    "Latency: 52.20",
                    "Latency: 47.70",
                    "Latency: 26.20",
                    "Latency: 43.50",
                    "Latency: 32.70",
                    "Latency: 49.90",
                    "Latency: 27.50",
                    "Latency: 54.80",
                    "Latency: 40.60",
                    "Latency: 60.50",
                    "Latency: 66.50",
                    "Latency: 51.10",
                    "Latency: 33.90",
                    "Latency: 48.00",
                    "Latency: 51.20",
                    "Latency: 53.40",
                    "Latency: 39.60",
                    "Latency: 49.00",
                    "Latency: 71.30",
                    "Latency: 52.30",
                    "Latency: 80.30",
                    "Latency: 184.00",
                    "Latency: 123.00",
                    "Latency: 111.00",
                    "Latency: 1.77",
                    "Latency: 24.40",
                    "Latency: 26.60",
                    "Latency: 27.20",
                    "Latency: 24.80",
                    "Latency: 53.70",
                    "Latency: 39.20",
                    "Latency: 49.50",
                    "Latency: 75.10",
                    "Latency: 38.60",
                    "Latency: 109.00",
                    "Latency: 67.10",
                    "Latency: 80.20",
                    "Latency: 73.70",
                    "Latency: 180.00",
                    "Latency: 87.80",
                    "Latency: 132.00",
                    "Latency: 117.00",
                    "Latency: 112.00",
                    "Latency: 65.50",
                    "Latency: 33.20",
                    "Latency: 82.10",
                    "Latency: 75.50",
                    "Latency: 158.00",
                    "Latency: 202.00",
                    "Latency: 77.60",
                    "Latency: 11.70",
                    "Latency: 16.10",
                    "Latency: 15.60",
                    "Latency: 48.10",
                    "Latency: 34.30",
                    "Latency: 3.81",
                    "Latency: 55.40",
                    "Latency: 188.00",
                    "Latency: 51.70",
                    "Latency: 52.60",
                    "Latency: 47.50",
                    "Latency: 149.00",
                    "Latency: 56.60",
                    "Latency: 28.10",
                    "Latency: 94.40",
                    "Latency: 59.30",
                    "Latency: 83.00",
                    "Latency: 91.70",
                    "Latency: 45.90",
                    "Latency: 71.20",
                    "Latency: 78.60",
                    "Latency: 77.90",
                    "Latency: 71.10",
                    "Latency: 82.00",
                    "Latency: 34.90",
                    "Latency: 49.20",
                    "Latency: 50.50",
                    "Latency: 77.80",
                    "Latency: 33.00",
                    "Latency: 37.20",
                    "Latency: 30.00",
                    "Latency: 44.30",
                    "Latency: 49.60",
                    "Latency: 90.90",
                    "Latency: 149.00",
                    "Latency: 50.60",
                    "Latency: 70.80",
                    "Latency: 113.00",
                    "Latency: 16.40",
                    "Latency: 130.00",
                    "Latency: 34.00",
                    "Latency: 89.90"
                  ],
                  "type": "scattermapbox"
                }
              ],
              "layout": {
                "annotations": [
                  {
                    "font": {
                      "size": 16
                    },
                    "showarrow": false,
                    "text": "Bitrate Map (Outliers Removed)",
                    "x": 0.225,
                    "xanchor": "center",
                    "xref": "paper",
                    "y": 1,
                    "yanchor": "bottom",
                    "yref": "paper"
                  },
                  {
                    "font": {
                      "size": 16
                    },
                    "showarrow": false,
                    "text": "Latency Map (Outliers Removed)",
                    "x": 0.775,
                    "xanchor": "center",
                    "xref": "paper",
                    "y": 1,
                    "yanchor": "bottom",
                    "yref": "paper"
                  }
                ],
                "mapbox": {
                  "center": {
                    "lat": 52.3159152708,
                    "lon": 10.562099174894545
                  },
                  "domain": {
                    "x": [
                      0,
                      0.45
                    ],
                    "y": [
                      0,
                      1
                    ]
                  },
                  "style": "carto-positron",
                  "zoom": 16
                },
                "mapbox2": {
                  "center": {
                    "lat": 52.3159152708,
                    "lon": 10.562099174894545
                  },
                  "domain": {
                    "x": [
                      0.55,
                      1
                    ],
                    "y": [
                      0,
                      1
                    ]
                  },
                  "style": "carto-positron",
                  "zoom": 16
                },
                "showlegend": false,
                "template": {
                  "data": {
                    "bar": [
                      {
                        "error_x": {
                          "color": "#2a3f5f"
                        },
                        "error_y": {
                          "color": "#2a3f5f"
                        },
                        "marker": {
                          "line": {
                            "color": "#E5ECF6",
                            "width": 0.5
                          },
                          "pattern": {
                            "fillmode": "overlay",
                            "size": 10,
                            "solidity": 0.2
                          }
                        },
                        "type": "bar"
                      }
                    ],
                    "barpolar": [
                      {
                        "marker": {
                          "line": {
                            "color": "#E5ECF6",
                            "width": 0.5
                          },
                          "pattern": {
                            "fillmode": "overlay",
                            "size": 10,
                            "solidity": 0.2
                          }
                        },
                        "type": "barpolar"
                      }
                    ],
                    "carpet": [
                      {
                        "aaxis": {
                          "endlinecolor": "#2a3f5f",
                          "gridcolor": "white",
                          "linecolor": "white",
                          "minorgridcolor": "white",
                          "startlinecolor": "#2a3f5f"
                        },
                        "baxis": {
                          "endlinecolor": "#2a3f5f",
                          "gridcolor": "white",
                          "linecolor": "white",
                          "minorgridcolor": "white",
                          "startlinecolor": "#2a3f5f"
                        },
                        "type": "carpet"
                      }
                    ],
                    "choropleth": [
                      {
                        "colorbar": {
                          "outlinewidth": 0,
                          "ticks": ""
                        },
                        "type": "choropleth"
                      }
                    ],
                    "contour": [
                      {
                        "colorbar": {
                          "outlinewidth": 0,
                          "ticks": ""
                        },
                        "colorscale": [
                          [
                            0,
                            "#0d0887"
                          ],
                          [
                            0.1111111111111111,
                            "#46039f"
                          ],
                          [
                            0.2222222222222222,
                            "#7201a8"
                          ],
                          [
                            0.3333333333333333,
                            "#9c179e"
                          ],
                          [
                            0.4444444444444444,
                            "#bd3786"
                          ],
                          [
                            0.5555555555555556,
                            "#d8576b"
                          ],
                          [
                            0.6666666666666666,
                            "#ed7953"
                          ],
                          [
                            0.7777777777777778,
                            "#fb9f3a"
                          ],
                          [
                            0.8888888888888888,
                            "#fdca26"
                          ],
                          [
                            1,
                            "#f0f921"
                          ]
                        ],
                        "type": "contour"
                      }
                    ],
                    "contourcarpet": [
                      {
                        "colorbar": {
                          "outlinewidth": 0,
                          "ticks": ""
                        },
                        "type": "contourcarpet"
                      }
                    ],
                    "heatmap": [
                      {
                        "colorbar": {
                          "outlinewidth": 0,
                          "ticks": ""
                        },
                        "colorscale": [
                          [
                            0,
                            "#0d0887"
                          ],
                          [
                            0.1111111111111111,
                            "#46039f"
                          ],
                          [
                            0.2222222222222222,
                            "#7201a8"
                          ],
                          [
                            0.3333333333333333,
                            "#9c179e"
                          ],
                          [
                            0.4444444444444444,
                            "#bd3786"
                          ],
                          [
                            0.5555555555555556,
                            "#d8576b"
                          ],
                          [
                            0.6666666666666666,
                            "#ed7953"
                          ],
                          [
                            0.7777777777777778,
                            "#fb9f3a"
                          ],
                          [
                            0.8888888888888888,
                            "#fdca26"
                          ],
                          [
                            1,
                            "#f0f921"
                          ]
                        ],
                        "type": "heatmap"
                      }
                    ],
                    "histogram": [
                      {
                        "marker": {
                          "pattern": {
                            "fillmode": "overlay",
                            "size": 10,
                            "solidity": 0.2
                          }
                        },
                        "type": "histogram"
                      }
                    ],
                    "histogram2d": [
                      {
                        "colorbar": {
                          "outlinewidth": 0,
                          "ticks": ""
                        },
                        "colorscale": [
                          [
                            0,
                            "#0d0887"
                          ],
                          [
                            0.1111111111111111,
                            "#46039f"
                          ],
                          [
                            0.2222222222222222,
                            "#7201a8"
                          ],
                          [
                            0.3333333333333333,
                            "#9c179e"
                          ],
                          [
                            0.4444444444444444,
                            "#bd3786"
                          ],
                          [
                            0.5555555555555556,
                            "#d8576b"
                          ],
                          [
                            0.6666666666666666,
                            "#ed7953"
                          ],
                          [
                            0.7777777777777778,
                            "#fb9f3a"
                          ],
                          [
                            0.8888888888888888,
                            "#fdca26"
                          ],
                          [
                            1,
                            "#f0f921"
                          ]
                        ],
                        "type": "histogram2d"
                      }
                    ],
                    "histogram2dcontour": [
                      {
                        "colorbar": {
                          "outlinewidth": 0,
                          "ticks": ""
                        },
                        "colorscale": [
                          [
                            0,
                            "#0d0887"
                          ],
                          [
                            0.1111111111111111,
                            "#46039f"
                          ],
                          [
                            0.2222222222222222,
                            "#7201a8"
                          ],
                          [
                            0.3333333333333333,
                            "#9c179e"
                          ],
                          [
                            0.4444444444444444,
                            "#bd3786"
                          ],
                          [
                            0.5555555555555556,
                            "#d8576b"
                          ],
                          [
                            0.6666666666666666,
                            "#ed7953"
                          ],
                          [
                            0.7777777777777778,
                            "#fb9f3a"
                          ],
                          [
                            0.8888888888888888,
                            "#fdca26"
                          ],
                          [
                            1,
                            "#f0f921"
                          ]
                        ],
                        "type": "histogram2dcontour"
                      }
                    ],
                    "mesh3d": [
                      {
                        "colorbar": {
                          "outlinewidth": 0,
                          "ticks": ""
                        },
                        "type": "mesh3d"
                      }
                    ],
                    "parcoords": [
                      {
                        "line": {
                          "colorbar": {
                            "outlinewidth": 0,
                            "ticks": ""
                          }
                        },
                        "type": "parcoords"
                      }
                    ],
                    "pie": [
                      {
                        "automargin": true,
                        "type": "pie"
                      }
                    ],
                    "scatter": [
                      {
                        "fillpattern": {
                          "fillmode": "overlay",
                          "size": 10,
                          "solidity": 0.2
                        },
                        "type": "scatter"
                      }
                    ],
                    "scatter3d": [
                      {
                        "line": {
                          "colorbar": {
                            "outlinewidth": 0,
                            "ticks": ""
                          }
                        },
                        "marker": {
                          "colorbar": {
                            "outlinewidth": 0,
                            "ticks": ""
                          }
                        },
                        "type": "scatter3d"
                      }
                    ],
                    "scattercarpet": [
                      {
                        "marker": {
                          "colorbar": {
                            "outlinewidth": 0,
                            "ticks": ""
                          }
                        },
                        "type": "scattercarpet"
                      }
                    ],
                    "scattergeo": [
                      {
                        "marker": {
                          "colorbar": {
                            "outlinewidth": 0,
                            "ticks": ""
                          }
                        },
                        "type": "scattergeo"
                      }
                    ],
                    "scattergl": [
                      {
                        "marker": {
                          "colorbar": {
                            "outlinewidth": 0,
                            "ticks": ""
                          }
                        },
                        "type": "scattergl"
                      }
                    ],
                    "scattermap": [
                      {
                        "marker": {
                          "colorbar": {
                            "outlinewidth": 0,
                            "ticks": ""
                          }
                        },
                        "type": "scattermap"
                      }
                    ],
                    "scattermapbox": [
                      {
                        "marker": {
                          "colorbar": {
                            "outlinewidth": 0,
                            "ticks": ""
                          }
                        },
                        "type": "scattermapbox"
                      }
                    ],
                    "scatterpolar": [
                      {
                        "marker": {
                          "colorbar": {
                            "outlinewidth": 0,
                            "ticks": ""
                          }
                        },
                        "type": "scatterpolar"
                      }
                    ],
                    "scatterpolargl": [
                      {
                        "marker": {
                          "colorbar": {
                            "outlinewidth": 0,
                            "ticks": ""
                          }
                        },
                        "type": "scatterpolargl"
                      }
                    ],
                    "scatterternary": [
                      {
                        "marker": {
                          "colorbar": {
                            "outlinewidth": 0,
                            "ticks": ""
                          }
                        },
                        "type": "scatterternary"
                      }
                    ],
                    "surface": [
                      {
                        "colorbar": {
                          "outlinewidth": 0,
                          "ticks": ""
                        },
                        "colorscale": [
                          [
                            0,
                            "#0d0887"
                          ],
                          [
                            0.1111111111111111,
                            "#46039f"
                          ],
                          [
                            0.2222222222222222,
                            "#7201a8"
                          ],
                          [
                            0.3333333333333333,
                            "#9c179e"
                          ],
                          [
                            0.4444444444444444,
                            "#bd3786"
                          ],
                          [
                            0.5555555555555556,
                            "#d8576b"
                          ],
                          [
                            0.6666666666666666,
                            "#ed7953"
                          ],
                          [
                            0.7777777777777778,
                            "#fb9f3a"
                          ],
                          [
                            0.8888888888888888,
                            "#fdca26"
                          ],
                          [
                            1,
                            "#f0f921"
                          ]
                        ],
                        "type": "surface"
                      }
                    ],
                    "table": [
                      {
                        "cells": {
                          "fill": {
                            "color": "#EBF0F8"
                          },
                          "line": {
                            "color": "white"
                          }
                        },
                        "header": {
                          "fill": {
                            "color": "#C8D4E3"
                          },
                          "line": {
                            "color": "white"
                          }
                        },
                        "type": "table"
                      }
                    ]
                  },
                  "layout": {
                    "annotationdefaults": {
                      "arrowcolor": "#2a3f5f",
                      "arrowhead": 0,
                      "arrowwidth": 1
                    },
                    "autotypenumbers": "strict",
                    "coloraxis": {
                      "colorbar": {
                        "outlinewidth": 0,
                        "ticks": ""
                      }
                    },
                    "colorscale": {
                      "diverging": [
                        [
                          0,
                          "#8e0152"
                        ],
                        [
                          0.1,
                          "#c51b7d"
                        ],
                        [
                          0.2,
                          "#de77ae"
                        ],
                        [
                          0.3,
                          "#f1b6da"
                        ],
                        [
                          0.4,
                          "#fde0ef"
                        ],
                        [
                          0.5,
                          "#f7f7f7"
                        ],
                        [
                          0.6,
                          "#e6f5d0"
                        ],
                        [
                          0.7,
                          "#b8e186"
                        ],
                        [
                          0.8,
                          "#7fbc41"
                        ],
                        [
                          0.9,
                          "#4d9221"
                        ],
                        [
                          1,
                          "#276419"
                        ]
                      ],
                      "sequential": [
                        [
                          0,
                          "#0d0887"
                        ],
                        [
                          0.1111111111111111,
                          "#46039f"
                        ],
                        [
                          0.2222222222222222,
                          "#7201a8"
                        ],
                        [
                          0.3333333333333333,
                          "#9c179e"
                        ],
                        [
                          0.4444444444444444,
                          "#bd3786"
                        ],
                        [
                          0.5555555555555556,
                          "#d8576b"
                        ],
                        [
                          0.6666666666666666,
                          "#ed7953"
                        ],
                        [
                          0.7777777777777778,
                          "#fb9f3a"
                        ],
                        [
                          0.8888888888888888,
                          "#fdca26"
                        ],
                        [
                          1,
                          "#f0f921"
                        ]
                      ],
                      "sequentialminus": [
                        [
                          0,
                          "#0d0887"
                        ],
                        [
                          0.1111111111111111,
                          "#46039f"
                        ],
                        [
                          0.2222222222222222,
                          "#7201a8"
                        ],
                        [
                          0.3333333333333333,
                          "#9c179e"
                        ],
                        [
                          0.4444444444444444,
                          "#bd3786"
                        ],
                        [
                          0.5555555555555556,
                          "#d8576b"
                        ],
                        [
                          0.6666666666666666,
                          "#ed7953"
                        ],
                        [
                          0.7777777777777778,
                          "#fb9f3a"
                        ],
                        [
                          0.8888888888888888,
                          "#fdca26"
                        ],
                        [
                          1,
                          "#f0f921"
                        ]
                      ]
                    },
                    "colorway": [
                      "#636efa",
                      "#EF553B",
                      "#00cc96",
                      "#ab63fa",
                      "#FFA15A",
                      "#19d3f3",
                      "#FF6692",
                      "#B6E880",
                      "#FF97FF",
                      "#FECB52"
                    ],
                    "font": {
                      "color": "#2a3f5f"
                    },
                    "geo": {
                      "bgcolor": "white",
                      "lakecolor": "white",
                      "landcolor": "#E5ECF6",
                      "showlakes": true,
                      "showland": true,
                      "subunitcolor": "white"
                    },
                    "hoverlabel": {
                      "align": "left"
                    },
                    "hovermode": "closest",
                    "mapbox": {
                      "style": "light"
                    },
                    "paper_bgcolor": "white",
                    "plot_bgcolor": "#E5ECF6",
                    "polar": {
                      "angularaxis": {
                        "gridcolor": "white",
                        "linecolor": "white",
                        "ticks": ""
                      },
                      "bgcolor": "#E5ECF6",
                      "radialaxis": {
                        "gridcolor": "white",
                        "linecolor": "white",
                        "ticks": ""
                      }
                    },
                    "scene": {
                      "xaxis": {
                        "backgroundcolor": "#E5ECF6",
                        "gridcolor": "white",
                        "gridwidth": 2,
                        "linecolor": "white",
                        "showbackground": true,
                        "ticks": "",
                        "zerolinecolor": "white"
                      },
                      "yaxis": {
                        "backgroundcolor": "#E5ECF6",
                        "gridcolor": "white",
                        "gridwidth": 2,
                        "linecolor": "white",
                        "showbackground": true,
                        "ticks": "",
                        "zerolinecolor": "white"
                      },
                      "zaxis": {
                        "backgroundcolor": "#E5ECF6",
                        "gridcolor": "white",
                        "gridwidth": 2,
                        "linecolor": "white",
                        "showbackground": true,
                        "ticks": "",
                        "zerolinecolor": "white"
                      }
                    },
                    "shapedefaults": {
                      "line": {
                        "color": "#2a3f5f"
                      }
                    },
                    "ternary": {
                      "aaxis": {
                        "gridcolor": "white",
                        "linecolor": "white",
                        "ticks": ""
                      },
                      "baxis": {
                        "gridcolor": "white",
                        "linecolor": "white",
                        "ticks": ""
                      },
                      "bgcolor": "#E5ECF6",
                      "caxis": {
                        "gridcolor": "white",
                        "linecolor": "white",
                        "ticks": ""
                      }
                    },
                    "title": {
                      "x": 0.05
                    },
                    "xaxis": {
                      "automargin": true,
                      "gridcolor": "white",
                      "linecolor": "white",
                      "ticks": "",
                      "title": {
                        "standoff": 15
                      },
                      "zerolinecolor": "white",
                      "zerolinewidth": 2
                    },
                    "yaxis": {
                      "automargin": true,
                      "gridcolor": "white",
                      "linecolor": "white",
                      "ticks": "",
                      "title": {
                        "standoff": 15
                      },
                      "zerolinecolor": "white",
                      "zerolinewidth": 2
                    }
                  }
                }
              }
            }
          },
          "metadata": {},
          "output_type": "display_data"
        }
      ],
      "source": [
        "# plotting\n",
        "fig = make_subplots(rows=1, cols=2, specs=[[{'type': 'mapbox'}, {'type': 'mapbox'}]],\n",
        "                    subplot_titles=('Bitrate Map (Outliers Removed)', 'Latency Map (Outliers Removed)'))\n",
        "\n",
        "fig.add_trace(go.Scattermapbox(\n",
        "    lat=combined_df_map_filtered[\"Latitude\"],\n",
        "    lon=combined_df_map_filtered[\"Longitude\"],\n",
        "    mode='markers',\n",
        "    marker=go.scattermapbox.Marker(\n",
        "        size=16, # Increased marker size\n",
        "        color=combined_df_map_filtered[\"Bitrate\"],\n",
        "        colorscale='viridis',\n",
        "        colorbar=dict(title='Bitrate [MBit/s]', x=0.45) # Adjust x position\n",
        "    ),\n",
        "    text=combined_df_map_filtered[\"Bitrate\"].apply(lambda x: f'Bitrate: {x:.2f}'),\n",
        "    name='Bitrate'\n",
        "), row=1, col=1)\n",
        "\n",
        "green_to_red = [(0, 'green'), (0.5, 'grey'), (1, 'red')]\n",
        "if not combined_df_map_latency_filtered.empty: # Check if there's data after dropping NaNs\n",
        "    fig.add_trace(go.Scattermapbox(\n",
        "        lat=combined_df_map_latency_filtered[\"Latitude\"],\n",
        "        lon=combined_df_map_latency_filtered[\"Longitude\"],\n",
        "        mode='markers',\n",
        "        marker=go.scattermapbox.Marker(\n",
        "            size=16, # Increased marker size\n",
        "            color=combined_df_map_latency_filtered[\"Latency\"],\n",
        "            colorscale=green_to_red,\n",
        "            colorbar=dict(title='Latency [ms]', x=1.0) # Adjust x position\n",
        "        ),\n",
        "        text=combined_df_map_latency_filtered[\"Latency\"].apply(lambda x: f'Latency: {x:.2f}'),\n",
        "        name='Latency'\n",
        "    ), row=1, col=2)\n",
        "else:\n",
        "     print(\"No Latency data available after outlier removal for mapping.\")\n",
        "\n",
        "\n",
        "# mapbox subplots\n",
        "fig.update_layout(\n",
        "    mapbox1=dict(\n",
        "        style=\"carto-positron\",\n",
        "        center=dict(lat=combined_df_map_filtered[\"Latitude\"].mean(), lon=combined_df_map_filtered[\"Longitude\"].mean()),\n",
        "        zoom=16\n",
        "    ),\n",
        "    mapbox2=dict(\n",
        "        style=\"carto-positron\",\n",
        "        center=dict(lat=combined_df_map_latency_filtered[\"Latitude\"].mean(), lon=combined_df_map_latency_filtered[\"Longitude\"].mean()),\n",
        "        zoom=16\n",
        "    ),\n",
        "    showlegend=False,\n",
        ")\n",
        "\n",
        "fig.show()"
      ]
    }
  ],
  "metadata": {
    "colab": {
      "provenance": []
    },
    "kernelspec": {
      "display_name": "Python 3",
      "language": "python",
      "name": "python3"
    },
    "language_info": {
      "codemirror_mode": {
        "name": "ipython",
        "version": 3
      },
      "file_extension": ".py",
      "mimetype": "text/x-python",
      "name": "python",
      "nbconvert_exporter": "python",
      "pygments_lexer": "ipython3",
      "version": "3.12.3"
    },
    "orig_nbformat": 4
  },
  "nbformat": 4,
  "nbformat_minor": 0
}
